{
 "cells": [
  {
   "cell_type": "markdown",
   "id": "3b87ef03",
   "metadata": {},
   "source": [
    "# AFFAIRS DATASET\n",
    "Using the above dataset to build a Model using Logistic Regression model to predict whether the person will have an affair or not.  "
   ]
  },
  {
   "cell_type": "markdown",
   "id": "862d5061",
   "metadata": {},
   "source": [
    "## BUSINESS OBJECTIVE\n",
    "* Maximize accurate prediction\n",
    "* Minimize affairs"
   ]
  },
  {
   "cell_type": "markdown",
   "id": "13ec6d84",
   "metadata": {},
   "source": [
    "## CONSTRAINTS\n",
    "* Human Behaviour"
   ]
  },
  {
   "cell_type": "markdown",
   "id": "070c9b64",
   "metadata": {},
   "source": [
    "## DATA DICTIONARY"
   ]
  },
  {
   "cell_type": "markdown",
   "id": "1a47d442",
   "metadata": {},
   "source": [
    "| **slno** |      **Name of Feature**     | **Description**                                                          | **Type** | **Relevance** |\n",
    "|:--------:|:----------------------------|:--------------------------------------------------------------------------|:--------:|:-------------:|\n",
    "| 0 | Unnamed: 0   | Column of Index numbers          | Count     | Relevant      |\n",
    "| 1 | naffairs     | Number of Extramarital affairs   | Count     | Relevant      |\n",
    "| 2 | kids         | Number of Kids: Yes/No           | Binary    | Relevant      |\n",
    "| 3 | vryunhap     | Very unhappy marriage: Yes/No    | Binary    | Relevant      |\n",
    "| 4 | unhap        | Unhappy marriage: Yes/No         | Binary    | Relevant      |\n",
    "| 5 | avgmarr      | Average Marriage: Yes/No         | Binary    | Relevant      |\n",
    "| 6 | hapavg       | Average Happy Marriage: Yes/No   | Binary    | Relevant      |\n",
    "| 7 | vryhap       | Very Happy Marriage: Yes/No      | Binary    | Relevant      |\n",
    "| 8 | antirel      | Anti-Religious: Yes/No           | Binary    | Relevant      |\n",
    "| 9 | notrel       | Not Religious: Yes/No            | Binary    | Relevant      |\n",
    "| 10 | slghtrel    | Slightly Religious: Yes/No       | Binary    | Relevant      |\n",
    "| 11 | smerel      | Slightly more Religious: Yes/No  | Binary    | Relevant      |\n",
    "| 12 | vryrel      | Very Religious: Yes/No           | Binary    | Relevant      |\n",
    "| 13 | yrsmarr1    | One Year of Marriage: Yes/No     | Binary    | Relevant      |\n",
    "| 14 | yrsmarr2    | Two Years of Marriage            | Binary    | Relevant      |\n",
    "| 15 | yrsmarr3    | Three Years of Marriage          | Binary    | Relevant      |\n",
    "| 16 | yrsmarr4    | Four Years of Marriage           | Binary    | Relevant      |\n",
    "| 17 | yrsmarr5    | Five Years of Marriage           | Binary    | Relevant      |\n",
    "| 18 | yrsmarr6    | Six Years of Marriage            | Binary    | Relevant      |"
   ]
  },
  {
   "cell_type": "markdown",
   "id": "46e5d637",
   "metadata": {},
   "source": [
    "Importing the required libraries."
   ]
  },
  {
   "cell_type": "code",
   "execution_count": 1,
   "id": "17e87c30",
   "metadata": {},
   "outputs": [],
   "source": [
    "import pandas as pd\n",
    "import numpy as np\n",
    "import matplotlib.pyplot as plt\n",
    "import seaborn as sns\n",
    "from scipy import stats\n",
    "from termcolor import colored\n",
    "from sklearn.model_selection import train_test_split"
   ]
  },
  {
   "cell_type": "markdown",
   "id": "e26adb47",
   "metadata": {},
   "source": [
    "Loading the dataset using the pandas library and confirming the dataset has been loaded properly using the 'head' function"
   ]
  },
  {
   "cell_type": "code",
   "execution_count": 2,
   "id": "3fd16244",
   "metadata": {},
   "outputs": [
    {
     "data": {
      "text/html": [
       "<div>\n",
       "<style scoped>\n",
       "    .dataframe tbody tr th:only-of-type {\n",
       "        vertical-align: middle;\n",
       "    }\n",
       "\n",
       "    .dataframe tbody tr th {\n",
       "        vertical-align: top;\n",
       "    }\n",
       "\n",
       "    .dataframe thead th {\n",
       "        text-align: right;\n",
       "    }\n",
       "</style>\n",
       "<table border=\"1\" class=\"dataframe\">\n",
       "  <thead>\n",
       "    <tr style=\"text-align: right;\">\n",
       "      <th></th>\n",
       "      <th>Unnamed: 0</th>\n",
       "      <th>naffairs</th>\n",
       "      <th>kids</th>\n",
       "      <th>vryunhap</th>\n",
       "      <th>unhap</th>\n",
       "      <th>avgmarr</th>\n",
       "      <th>hapavg</th>\n",
       "      <th>vryhap</th>\n",
       "      <th>antirel</th>\n",
       "      <th>notrel</th>\n",
       "      <th>slghtrel</th>\n",
       "      <th>smerel</th>\n",
       "      <th>vryrel</th>\n",
       "      <th>yrsmarr1</th>\n",
       "      <th>yrsmarr2</th>\n",
       "      <th>yrsmarr3</th>\n",
       "      <th>yrsmarr4</th>\n",
       "      <th>yrsmarr5</th>\n",
       "      <th>yrsmarr6</th>\n",
       "    </tr>\n",
       "  </thead>\n",
       "  <tbody>\n",
       "    <tr>\n",
       "      <th>0</th>\n",
       "      <td>1</td>\n",
       "      <td>0</td>\n",
       "      <td>0</td>\n",
       "      <td>0</td>\n",
       "      <td>0</td>\n",
       "      <td>0</td>\n",
       "      <td>1</td>\n",
       "      <td>0</td>\n",
       "      <td>0</td>\n",
       "      <td>0</td>\n",
       "      <td>1</td>\n",
       "      <td>0</td>\n",
       "      <td>0</td>\n",
       "      <td>0</td>\n",
       "      <td>0</td>\n",
       "      <td>0</td>\n",
       "      <td>0</td>\n",
       "      <td>1</td>\n",
       "      <td>0</td>\n",
       "    </tr>\n",
       "    <tr>\n",
       "      <th>1</th>\n",
       "      <td>2</td>\n",
       "      <td>0</td>\n",
       "      <td>0</td>\n",
       "      <td>0</td>\n",
       "      <td>0</td>\n",
       "      <td>0</td>\n",
       "      <td>1</td>\n",
       "      <td>0</td>\n",
       "      <td>0</td>\n",
       "      <td>0</td>\n",
       "      <td>0</td>\n",
       "      <td>1</td>\n",
       "      <td>0</td>\n",
       "      <td>0</td>\n",
       "      <td>0</td>\n",
       "      <td>1</td>\n",
       "      <td>0</td>\n",
       "      <td>0</td>\n",
       "      <td>0</td>\n",
       "    </tr>\n",
       "    <tr>\n",
       "      <th>2</th>\n",
       "      <td>3</td>\n",
       "      <td>3</td>\n",
       "      <td>0</td>\n",
       "      <td>0</td>\n",
       "      <td>0</td>\n",
       "      <td>0</td>\n",
       "      <td>1</td>\n",
       "      <td>0</td>\n",
       "      <td>0</td>\n",
       "      <td>0</td>\n",
       "      <td>1</td>\n",
       "      <td>0</td>\n",
       "      <td>0</td>\n",
       "      <td>0</td>\n",
       "      <td>1</td>\n",
       "      <td>0</td>\n",
       "      <td>0</td>\n",
       "      <td>0</td>\n",
       "      <td>0</td>\n",
       "    </tr>\n",
       "    <tr>\n",
       "      <th>3</th>\n",
       "      <td>4</td>\n",
       "      <td>0</td>\n",
       "      <td>1</td>\n",
       "      <td>0</td>\n",
       "      <td>0</td>\n",
       "      <td>0</td>\n",
       "      <td>1</td>\n",
       "      <td>0</td>\n",
       "      <td>1</td>\n",
       "      <td>0</td>\n",
       "      <td>0</td>\n",
       "      <td>0</td>\n",
       "      <td>0</td>\n",
       "      <td>0</td>\n",
       "      <td>0</td>\n",
       "      <td>0</td>\n",
       "      <td>0</td>\n",
       "      <td>0</td>\n",
       "      <td>1</td>\n",
       "    </tr>\n",
       "    <tr>\n",
       "      <th>4</th>\n",
       "      <td>5</td>\n",
       "      <td>3</td>\n",
       "      <td>1</td>\n",
       "      <td>0</td>\n",
       "      <td>0</td>\n",
       "      <td>0</td>\n",
       "      <td>0</td>\n",
       "      <td>1</td>\n",
       "      <td>0</td>\n",
       "      <td>0</td>\n",
       "      <td>1</td>\n",
       "      <td>0</td>\n",
       "      <td>0</td>\n",
       "      <td>0</td>\n",
       "      <td>0</td>\n",
       "      <td>1</td>\n",
       "      <td>0</td>\n",
       "      <td>0</td>\n",
       "      <td>0</td>\n",
       "    </tr>\n",
       "  </tbody>\n",
       "</table>\n",
       "</div>"
      ],
      "text/plain": [
       "   Unnamed: 0  naffairs  kids  vryunhap  unhap  avgmarr  hapavg  vryhap  \\\n",
       "0           1         0     0         0      0        0       1       0   \n",
       "1           2         0     0         0      0        0       1       0   \n",
       "2           3         3     0         0      0        0       1       0   \n",
       "3           4         0     1         0      0        0       1       0   \n",
       "4           5         3     1         0      0        0       0       1   \n",
       "\n",
       "   antirel  notrel  slghtrel  smerel  vryrel  yrsmarr1  yrsmarr2  yrsmarr3  \\\n",
       "0        0       0         1       0       0         0         0         0   \n",
       "1        0       0         0       1       0         0         0         1   \n",
       "2        0       0         1       0       0         0         1         0   \n",
       "3        1       0         0       0       0         0         0         0   \n",
       "4        0       0         1       0       0         0         0         1   \n",
       "\n",
       "   yrsmarr4  yrsmarr5  yrsmarr6  \n",
       "0         0         1         0  \n",
       "1         0         0         0  \n",
       "2         0         0         0  \n",
       "3         0         0         1  \n",
       "4         0         0         0  "
      ]
     },
     "execution_count": 2,
     "metadata": {},
     "output_type": "execute_result"
    }
   ],
   "source": [
    "df0 = pd.read_csv(r\"D:\\360Digitmg\\ASSIGNMENTS\\Ass23\\Affairs.csv\")\n",
    "df=df0.copy()\n",
    "df.head()"
   ]
  },
  {
   "cell_type": "code",
   "execution_count": 3,
   "id": "8f6adbf2",
   "metadata": {},
   "outputs": [
    {
     "data": {
      "text/plain": [
       "Index(['Unnamed: 0', 'naffairs', 'kids', 'vryunhap', 'unhap', 'avgmarr',\n",
       "       'hapavg', 'vryhap', 'antirel', 'notrel', 'slghtrel', 'smerel', 'vryrel',\n",
       "       'yrsmarr1', 'yrsmarr2', 'yrsmarr3', 'yrsmarr4', 'yrsmarr5', 'yrsmarr6'],\n",
       "      dtype='object')"
      ]
     },
     "execution_count": 3,
     "metadata": {},
     "output_type": "execute_result"
    }
   ],
   "source": [
    "df.columns"
   ]
  },
  {
   "cell_type": "code",
   "execution_count": 4,
   "id": "18706700",
   "metadata": {},
   "outputs": [
    {
     "data": {
      "text/html": [
       "<div>\n",
       "<style scoped>\n",
       "    .dataframe tbody tr th:only-of-type {\n",
       "        vertical-align: middle;\n",
       "    }\n",
       "\n",
       "    .dataframe tbody tr th {\n",
       "        vertical-align: top;\n",
       "    }\n",
       "\n",
       "    .dataframe thead th {\n",
       "        text-align: right;\n",
       "    }\n",
       "</style>\n",
       "<table border=\"1\" class=\"dataframe\">\n",
       "  <thead>\n",
       "    <tr style=\"text-align: right;\">\n",
       "      <th></th>\n",
       "      <th>naffairs</th>\n",
       "      <th>kids</th>\n",
       "      <th>vryunhap</th>\n",
       "      <th>unhap</th>\n",
       "      <th>avgmarr</th>\n",
       "      <th>hapavg</th>\n",
       "      <th>vryhap</th>\n",
       "      <th>antirel</th>\n",
       "      <th>notrel</th>\n",
       "      <th>slghtrel</th>\n",
       "      <th>smerel</th>\n",
       "      <th>vryrel</th>\n",
       "      <th>yrsmarr1</th>\n",
       "      <th>yrsmarr2</th>\n",
       "      <th>yrsmarr3</th>\n",
       "      <th>yrsmarr4</th>\n",
       "      <th>yrsmarr5</th>\n",
       "      <th>yrsmarr6</th>\n",
       "    </tr>\n",
       "  </thead>\n",
       "  <tbody>\n",
       "    <tr>\n",
       "      <th>0</th>\n",
       "      <td>0</td>\n",
       "      <td>0</td>\n",
       "      <td>0</td>\n",
       "      <td>0</td>\n",
       "      <td>0</td>\n",
       "      <td>1</td>\n",
       "      <td>0</td>\n",
       "      <td>0</td>\n",
       "      <td>0</td>\n",
       "      <td>1</td>\n",
       "      <td>0</td>\n",
       "      <td>0</td>\n",
       "      <td>0</td>\n",
       "      <td>0</td>\n",
       "      <td>0</td>\n",
       "      <td>0</td>\n",
       "      <td>1</td>\n",
       "      <td>0</td>\n",
       "    </tr>\n",
       "    <tr>\n",
       "      <th>1</th>\n",
       "      <td>0</td>\n",
       "      <td>0</td>\n",
       "      <td>0</td>\n",
       "      <td>0</td>\n",
       "      <td>0</td>\n",
       "      <td>1</td>\n",
       "      <td>0</td>\n",
       "      <td>0</td>\n",
       "      <td>0</td>\n",
       "      <td>0</td>\n",
       "      <td>1</td>\n",
       "      <td>0</td>\n",
       "      <td>0</td>\n",
       "      <td>0</td>\n",
       "      <td>1</td>\n",
       "      <td>0</td>\n",
       "      <td>0</td>\n",
       "      <td>0</td>\n",
       "    </tr>\n",
       "    <tr>\n",
       "      <th>2</th>\n",
       "      <td>3</td>\n",
       "      <td>0</td>\n",
       "      <td>0</td>\n",
       "      <td>0</td>\n",
       "      <td>0</td>\n",
       "      <td>1</td>\n",
       "      <td>0</td>\n",
       "      <td>0</td>\n",
       "      <td>0</td>\n",
       "      <td>1</td>\n",
       "      <td>0</td>\n",
       "      <td>0</td>\n",
       "      <td>0</td>\n",
       "      <td>1</td>\n",
       "      <td>0</td>\n",
       "      <td>0</td>\n",
       "      <td>0</td>\n",
       "      <td>0</td>\n",
       "    </tr>\n",
       "    <tr>\n",
       "      <th>3</th>\n",
       "      <td>0</td>\n",
       "      <td>1</td>\n",
       "      <td>0</td>\n",
       "      <td>0</td>\n",
       "      <td>0</td>\n",
       "      <td>1</td>\n",
       "      <td>0</td>\n",
       "      <td>1</td>\n",
       "      <td>0</td>\n",
       "      <td>0</td>\n",
       "      <td>0</td>\n",
       "      <td>0</td>\n",
       "      <td>0</td>\n",
       "      <td>0</td>\n",
       "      <td>0</td>\n",
       "      <td>0</td>\n",
       "      <td>0</td>\n",
       "      <td>1</td>\n",
       "    </tr>\n",
       "    <tr>\n",
       "      <th>4</th>\n",
       "      <td>3</td>\n",
       "      <td>1</td>\n",
       "      <td>0</td>\n",
       "      <td>0</td>\n",
       "      <td>0</td>\n",
       "      <td>0</td>\n",
       "      <td>1</td>\n",
       "      <td>0</td>\n",
       "      <td>0</td>\n",
       "      <td>1</td>\n",
       "      <td>0</td>\n",
       "      <td>0</td>\n",
       "      <td>0</td>\n",
       "      <td>0</td>\n",
       "      <td>1</td>\n",
       "      <td>0</td>\n",
       "      <td>0</td>\n",
       "      <td>0</td>\n",
       "    </tr>\n",
       "  </tbody>\n",
       "</table>\n",
       "</div>"
      ],
      "text/plain": [
       "   naffairs  kids  vryunhap  unhap  avgmarr  hapavg  vryhap  antirel  notrel  \\\n",
       "0         0     0         0      0        0       1       0        0       0   \n",
       "1         0     0         0      0        0       1       0        0       0   \n",
       "2         3     0         0      0        0       1       0        0       0   \n",
       "3         0     1         0      0        0       1       0        1       0   \n",
       "4         3     1         0      0        0       0       1        0       0   \n",
       "\n",
       "   slghtrel  smerel  vryrel  yrsmarr1  yrsmarr2  yrsmarr3  yrsmarr4  yrsmarr5  \\\n",
       "0         1       0       0         0         0         0         0         1   \n",
       "1         0       1       0         0         0         1         0         0   \n",
       "2         1       0       0         0         1         0         0         0   \n",
       "3         0       0       0         0         0         0         0         0   \n",
       "4         1       0       0         0         0         1         0         0   \n",
       "\n",
       "   yrsmarr6  \n",
       "0         0  \n",
       "1         0  \n",
       "2         0  \n",
       "3         1  \n",
       "4         0  "
      ]
     },
     "execution_count": 4,
     "metadata": {},
     "output_type": "execute_result"
    }
   ],
   "source": [
    "df.drop(['Unnamed: 0'],axis=1,inplace=True)\n",
    "df.head()"
   ]
  },
  {
   "cell_type": "markdown",
   "id": "6b969727",
   "metadata": {},
   "source": [
    "### EXPLORATORY DATA ANALYSIS & FEATURE ENGINEERING"
   ]
  },
  {
   "cell_type": "markdown",
   "id": "89606ccd",
   "metadata": {},
   "source": [
    "The below three lines give a general idea about the dataset like the shape, type and non null values."
   ]
  },
  {
   "cell_type": "code",
   "execution_count": 5,
   "id": "46c129c5",
   "metadata": {},
   "outputs": [
    {
     "data": {
      "text/plain": [
       "(601, 18)"
      ]
     },
     "execution_count": 5,
     "metadata": {},
     "output_type": "execute_result"
    }
   ],
   "source": [
    "df.shape"
   ]
  },
  {
   "cell_type": "code",
   "execution_count": 6,
   "id": "16c1f67c",
   "metadata": {},
   "outputs": [
    {
     "data": {
      "text/plain": [
       "naffairs    int64\n",
       "kids        int64\n",
       "vryunhap    int64\n",
       "unhap       int64\n",
       "avgmarr     int64\n",
       "hapavg      int64\n",
       "vryhap      int64\n",
       "antirel     int64\n",
       "notrel      int64\n",
       "slghtrel    int64\n",
       "smerel      int64\n",
       "vryrel      int64\n",
       "yrsmarr1    int64\n",
       "yrsmarr2    int64\n",
       "yrsmarr3    int64\n",
       "yrsmarr4    int64\n",
       "yrsmarr5    int64\n",
       "yrsmarr6    int64\n",
       "dtype: object"
      ]
     },
     "execution_count": 6,
     "metadata": {},
     "output_type": "execute_result"
    }
   ],
   "source": [
    "df.dtypes"
   ]
  },
  {
   "cell_type": "code",
   "execution_count": 7,
   "id": "414ae339",
   "metadata": {},
   "outputs": [
    {
     "name": "stdout",
     "output_type": "stream",
     "text": [
      "<class 'pandas.core.frame.DataFrame'>\n",
      "RangeIndex: 601 entries, 0 to 600\n",
      "Data columns (total 18 columns):\n",
      " #   Column    Non-Null Count  Dtype\n",
      "---  ------    --------------  -----\n",
      " 0   naffairs  601 non-null    int64\n",
      " 1   kids      601 non-null    int64\n",
      " 2   vryunhap  601 non-null    int64\n",
      " 3   unhap     601 non-null    int64\n",
      " 4   avgmarr   601 non-null    int64\n",
      " 5   hapavg    601 non-null    int64\n",
      " 6   vryhap    601 non-null    int64\n",
      " 7   antirel   601 non-null    int64\n",
      " 8   notrel    601 non-null    int64\n",
      " 9   slghtrel  601 non-null    int64\n",
      " 10  smerel    601 non-null    int64\n",
      " 11  vryrel    601 non-null    int64\n",
      " 12  yrsmarr1  601 non-null    int64\n",
      " 13  yrsmarr2  601 non-null    int64\n",
      " 14  yrsmarr3  601 non-null    int64\n",
      " 15  yrsmarr4  601 non-null    int64\n",
      " 16  yrsmarr5  601 non-null    int64\n",
      " 17  yrsmarr6  601 non-null    int64\n",
      "dtypes: int64(18)\n",
      "memory usage: 84.6 KB\n"
     ]
    }
   ],
   "source": [
    "df.info()"
   ]
  },
  {
   "cell_type": "markdown",
   "id": "78ee999b",
   "metadata": {},
   "source": [
    "The describe function gives the count, min, max, mean, standard deviation and quantile values of the dataset."
   ]
  },
  {
   "cell_type": "code",
   "execution_count": 8,
   "id": "12c467cc",
   "metadata": {},
   "outputs": [
    {
     "data": {
      "text/html": [
       "<div>\n",
       "<style scoped>\n",
       "    .dataframe tbody tr th:only-of-type {\n",
       "        vertical-align: middle;\n",
       "    }\n",
       "\n",
       "    .dataframe tbody tr th {\n",
       "        vertical-align: top;\n",
       "    }\n",
       "\n",
       "    .dataframe thead th {\n",
       "        text-align: right;\n",
       "    }\n",
       "</style>\n",
       "<table border=\"1\" class=\"dataframe\">\n",
       "  <thead>\n",
       "    <tr style=\"text-align: right;\">\n",
       "      <th></th>\n",
       "      <th>naffairs</th>\n",
       "      <th>kids</th>\n",
       "      <th>vryunhap</th>\n",
       "      <th>unhap</th>\n",
       "      <th>avgmarr</th>\n",
       "      <th>hapavg</th>\n",
       "      <th>vryhap</th>\n",
       "      <th>antirel</th>\n",
       "      <th>notrel</th>\n",
       "      <th>slghtrel</th>\n",
       "      <th>smerel</th>\n",
       "      <th>vryrel</th>\n",
       "      <th>yrsmarr1</th>\n",
       "      <th>yrsmarr2</th>\n",
       "      <th>yrsmarr3</th>\n",
       "      <th>yrsmarr4</th>\n",
       "      <th>yrsmarr5</th>\n",
       "      <th>yrsmarr6</th>\n",
       "    </tr>\n",
       "  </thead>\n",
       "  <tbody>\n",
       "    <tr>\n",
       "      <th>count</th>\n",
       "      <td>601.000000</td>\n",
       "      <td>601.000000</td>\n",
       "      <td>601.000000</td>\n",
       "      <td>601.000000</td>\n",
       "      <td>601.000000</td>\n",
       "      <td>601.000000</td>\n",
       "      <td>601.000000</td>\n",
       "      <td>601.000000</td>\n",
       "      <td>601.000000</td>\n",
       "      <td>601.000000</td>\n",
       "      <td>601.000000</td>\n",
       "      <td>601.000000</td>\n",
       "      <td>601.000000</td>\n",
       "      <td>601.000000</td>\n",
       "      <td>601.000000</td>\n",
       "      <td>601.000000</td>\n",
       "      <td>601.000000</td>\n",
       "      <td>601.000000</td>\n",
       "    </tr>\n",
       "    <tr>\n",
       "      <th>mean</th>\n",
       "      <td>1.455907</td>\n",
       "      <td>0.715474</td>\n",
       "      <td>0.026622</td>\n",
       "      <td>0.109817</td>\n",
       "      <td>0.154742</td>\n",
       "      <td>0.322795</td>\n",
       "      <td>0.386023</td>\n",
       "      <td>0.079867</td>\n",
       "      <td>0.272879</td>\n",
       "      <td>0.214642</td>\n",
       "      <td>0.316140</td>\n",
       "      <td>0.116473</td>\n",
       "      <td>0.086522</td>\n",
       "      <td>0.146423</td>\n",
       "      <td>0.174709</td>\n",
       "      <td>0.136439</td>\n",
       "      <td>0.116473</td>\n",
       "      <td>0.339434</td>\n",
       "    </tr>\n",
       "    <tr>\n",
       "      <th>std</th>\n",
       "      <td>3.298758</td>\n",
       "      <td>0.451564</td>\n",
       "      <td>0.161111</td>\n",
       "      <td>0.312922</td>\n",
       "      <td>0.361960</td>\n",
       "      <td>0.467935</td>\n",
       "      <td>0.487242</td>\n",
       "      <td>0.271313</td>\n",
       "      <td>0.445810</td>\n",
       "      <td>0.410916</td>\n",
       "      <td>0.465355</td>\n",
       "      <td>0.321058</td>\n",
       "      <td>0.281368</td>\n",
       "      <td>0.353824</td>\n",
       "      <td>0.380034</td>\n",
       "      <td>0.343540</td>\n",
       "      <td>0.321058</td>\n",
       "      <td>0.473912</td>\n",
       "    </tr>\n",
       "    <tr>\n",
       "      <th>min</th>\n",
       "      <td>0.000000</td>\n",
       "      <td>0.000000</td>\n",
       "      <td>0.000000</td>\n",
       "      <td>0.000000</td>\n",
       "      <td>0.000000</td>\n",
       "      <td>0.000000</td>\n",
       "      <td>0.000000</td>\n",
       "      <td>0.000000</td>\n",
       "      <td>0.000000</td>\n",
       "      <td>0.000000</td>\n",
       "      <td>0.000000</td>\n",
       "      <td>0.000000</td>\n",
       "      <td>0.000000</td>\n",
       "      <td>0.000000</td>\n",
       "      <td>0.000000</td>\n",
       "      <td>0.000000</td>\n",
       "      <td>0.000000</td>\n",
       "      <td>0.000000</td>\n",
       "    </tr>\n",
       "    <tr>\n",
       "      <th>25%</th>\n",
       "      <td>0.000000</td>\n",
       "      <td>0.000000</td>\n",
       "      <td>0.000000</td>\n",
       "      <td>0.000000</td>\n",
       "      <td>0.000000</td>\n",
       "      <td>0.000000</td>\n",
       "      <td>0.000000</td>\n",
       "      <td>0.000000</td>\n",
       "      <td>0.000000</td>\n",
       "      <td>0.000000</td>\n",
       "      <td>0.000000</td>\n",
       "      <td>0.000000</td>\n",
       "      <td>0.000000</td>\n",
       "      <td>0.000000</td>\n",
       "      <td>0.000000</td>\n",
       "      <td>0.000000</td>\n",
       "      <td>0.000000</td>\n",
       "      <td>0.000000</td>\n",
       "    </tr>\n",
       "    <tr>\n",
       "      <th>50%</th>\n",
       "      <td>0.000000</td>\n",
       "      <td>1.000000</td>\n",
       "      <td>0.000000</td>\n",
       "      <td>0.000000</td>\n",
       "      <td>0.000000</td>\n",
       "      <td>0.000000</td>\n",
       "      <td>0.000000</td>\n",
       "      <td>0.000000</td>\n",
       "      <td>0.000000</td>\n",
       "      <td>0.000000</td>\n",
       "      <td>0.000000</td>\n",
       "      <td>0.000000</td>\n",
       "      <td>0.000000</td>\n",
       "      <td>0.000000</td>\n",
       "      <td>0.000000</td>\n",
       "      <td>0.000000</td>\n",
       "      <td>0.000000</td>\n",
       "      <td>0.000000</td>\n",
       "    </tr>\n",
       "    <tr>\n",
       "      <th>75%</th>\n",
       "      <td>0.000000</td>\n",
       "      <td>1.000000</td>\n",
       "      <td>0.000000</td>\n",
       "      <td>0.000000</td>\n",
       "      <td>0.000000</td>\n",
       "      <td>1.000000</td>\n",
       "      <td>1.000000</td>\n",
       "      <td>0.000000</td>\n",
       "      <td>1.000000</td>\n",
       "      <td>0.000000</td>\n",
       "      <td>1.000000</td>\n",
       "      <td>0.000000</td>\n",
       "      <td>0.000000</td>\n",
       "      <td>0.000000</td>\n",
       "      <td>0.000000</td>\n",
       "      <td>0.000000</td>\n",
       "      <td>0.000000</td>\n",
       "      <td>1.000000</td>\n",
       "    </tr>\n",
       "    <tr>\n",
       "      <th>max</th>\n",
       "      <td>12.000000</td>\n",
       "      <td>1.000000</td>\n",
       "      <td>1.000000</td>\n",
       "      <td>1.000000</td>\n",
       "      <td>1.000000</td>\n",
       "      <td>1.000000</td>\n",
       "      <td>1.000000</td>\n",
       "      <td>1.000000</td>\n",
       "      <td>1.000000</td>\n",
       "      <td>1.000000</td>\n",
       "      <td>1.000000</td>\n",
       "      <td>1.000000</td>\n",
       "      <td>1.000000</td>\n",
       "      <td>1.000000</td>\n",
       "      <td>1.000000</td>\n",
       "      <td>1.000000</td>\n",
       "      <td>1.000000</td>\n",
       "      <td>1.000000</td>\n",
       "    </tr>\n",
       "  </tbody>\n",
       "</table>\n",
       "</div>"
      ],
      "text/plain": [
       "         naffairs        kids    vryunhap       unhap     avgmarr      hapavg  \\\n",
       "count  601.000000  601.000000  601.000000  601.000000  601.000000  601.000000   \n",
       "mean     1.455907    0.715474    0.026622    0.109817    0.154742    0.322795   \n",
       "std      3.298758    0.451564    0.161111    0.312922    0.361960    0.467935   \n",
       "min      0.000000    0.000000    0.000000    0.000000    0.000000    0.000000   \n",
       "25%      0.000000    0.000000    0.000000    0.000000    0.000000    0.000000   \n",
       "50%      0.000000    1.000000    0.000000    0.000000    0.000000    0.000000   \n",
       "75%      0.000000    1.000000    0.000000    0.000000    0.000000    1.000000   \n",
       "max     12.000000    1.000000    1.000000    1.000000    1.000000    1.000000   \n",
       "\n",
       "           vryhap     antirel      notrel    slghtrel      smerel      vryrel  \\\n",
       "count  601.000000  601.000000  601.000000  601.000000  601.000000  601.000000   \n",
       "mean     0.386023    0.079867    0.272879    0.214642    0.316140    0.116473   \n",
       "std      0.487242    0.271313    0.445810    0.410916    0.465355    0.321058   \n",
       "min      0.000000    0.000000    0.000000    0.000000    0.000000    0.000000   \n",
       "25%      0.000000    0.000000    0.000000    0.000000    0.000000    0.000000   \n",
       "50%      0.000000    0.000000    0.000000    0.000000    0.000000    0.000000   \n",
       "75%      1.000000    0.000000    1.000000    0.000000    1.000000    0.000000   \n",
       "max      1.000000    1.000000    1.000000    1.000000    1.000000    1.000000   \n",
       "\n",
       "         yrsmarr1    yrsmarr2    yrsmarr3    yrsmarr4    yrsmarr5    yrsmarr6  \n",
       "count  601.000000  601.000000  601.000000  601.000000  601.000000  601.000000  \n",
       "mean     0.086522    0.146423    0.174709    0.136439    0.116473    0.339434  \n",
       "std      0.281368    0.353824    0.380034    0.343540    0.321058    0.473912  \n",
       "min      0.000000    0.000000    0.000000    0.000000    0.000000    0.000000  \n",
       "25%      0.000000    0.000000    0.000000    0.000000    0.000000    0.000000  \n",
       "50%      0.000000    0.000000    0.000000    0.000000    0.000000    0.000000  \n",
       "75%      0.000000    0.000000    0.000000    0.000000    0.000000    1.000000  \n",
       "max      1.000000    1.000000    1.000000    1.000000    1.000000    1.000000  "
      ]
     },
     "execution_count": 8,
     "metadata": {},
     "output_type": "execute_result"
    }
   ],
   "source": [
    "df.describe()"
   ]
  },
  {
   "cell_type": "markdown",
   "id": "f7717389",
   "metadata": {},
   "source": [
    "Checking the Number of Duplicates in the Dataset."
   ]
  },
  {
   "cell_type": "code",
   "execution_count": 9,
   "id": "7e5d1006",
   "metadata": {},
   "outputs": [
    {
     "name": "stdout",
     "output_type": "stream",
     "text": [
      "\u001b[1m\u001b[34m Number of Duplicate values: \u001b[0m 336\n"
     ]
    }
   ],
   "source": [
    "duplicate_values=df.duplicated(subset=None,keep='first').sum()\n",
    "print(colored(' Number of Duplicate values: ','blue',attrs=['bold']),duplicate_values)"
   ]
  },
  {
   "cell_type": "markdown",
   "id": "f5b09503",
   "metadata": {},
   "source": [
    "Although there are 336 duplicate values, as the data is mostly in binaries the chances of multiple records having the same values is possible so keeping them as removing them will remove most of the records from the dataset."
   ]
  },
  {
   "cell_type": "markdown",
   "id": "596b1b85",
   "metadata": {},
   "source": [
    "Checking the Number and Percentage of Missing Values in the Dataset."
   ]
  },
  {
   "cell_type": "code",
   "execution_count": 10,
   "id": "72d872c0",
   "metadata": {},
   "outputs": [
    {
     "name": "stdout",
     "output_type": "stream",
     "text": [
      "\u001b[1m\u001b[34mNumber of Missing Values\n",
      "\n",
      "\u001b[0m naffairs    0\n",
      "kids        0\n",
      "yrsmarr5    0\n",
      "yrsmarr4    0\n",
      "yrsmarr3    0\n",
      "yrsmarr2    0\n",
      "yrsmarr1    0\n",
      "vryrel      0\n",
      "smerel      0\n",
      "slghtrel    0\n",
      "notrel      0\n",
      "antirel     0\n",
      "vryhap      0\n",
      "hapavg      0\n",
      "avgmarr     0\n",
      "unhap       0\n",
      "vryunhap    0\n",
      "yrsmarr6    0\n",
      "dtype: int64\n"
     ]
    }
   ],
   "source": [
    "missing=df.isna().sum().sort_values(ascending=False)\n",
    "print(colored(\"Number of Missing Values\\n\\n\",'blue',attrs=['bold']),missing)"
   ]
  },
  {
   "cell_type": "code",
   "execution_count": 11,
   "id": "422f0bc7",
   "metadata": {},
   "outputs": [
    {
     "name": "stdout",
     "output_type": "stream",
     "text": [
      "\u001b[1m\u001b[34mNumber of Unique Values:\n",
      "\n",
      "\u001b[0m naffairs    6\n",
      "kids        2\n",
      "vryunhap    2\n",
      "unhap       2\n",
      "avgmarr     2\n",
      "hapavg      2\n",
      "vryhap      2\n",
      "antirel     2\n",
      "notrel      2\n",
      "slghtrel    2\n",
      "smerel      2\n",
      "vryrel      2\n",
      "yrsmarr1    2\n",
      "yrsmarr2    2\n",
      "yrsmarr3    2\n",
      "yrsmarr4    2\n",
      "yrsmarr5    2\n",
      "yrsmarr6    2\n",
      "dtype: int64\n"
     ]
    }
   ],
   "source": [
    "print(colored('Number of Unique Values:\\n\\n','blue',attrs=['bold']),df.nunique())"
   ]
  },
  {
   "cell_type": "code",
   "execution_count": 12,
   "id": "7c2ce847",
   "metadata": {},
   "outputs": [
    {
     "data": {
      "text/html": [
       "<div>\n",
       "<style scoped>\n",
       "    .dataframe tbody tr th:only-of-type {\n",
       "        vertical-align: middle;\n",
       "    }\n",
       "\n",
       "    .dataframe tbody tr th {\n",
       "        vertical-align: top;\n",
       "    }\n",
       "\n",
       "    .dataframe thead th {\n",
       "        text-align: right;\n",
       "    }\n",
       "</style>\n",
       "<table border=\"1\" class=\"dataframe\">\n",
       "  <thead>\n",
       "    <tr style=\"text-align: right;\">\n",
       "      <th></th>\n",
       "      <th>kids</th>\n",
       "      <th>vryunhap</th>\n",
       "      <th>unhap</th>\n",
       "      <th>avgmarr</th>\n",
       "      <th>hapavg</th>\n",
       "      <th>vryhap</th>\n",
       "      <th>antirel</th>\n",
       "      <th>notrel</th>\n",
       "      <th>slghtrel</th>\n",
       "      <th>smerel</th>\n",
       "      <th>vryrel</th>\n",
       "      <th>yrsmarr1</th>\n",
       "      <th>yrsmarr2</th>\n",
       "      <th>yrsmarr3</th>\n",
       "      <th>yrsmarr4</th>\n",
       "      <th>yrsmarr5</th>\n",
       "      <th>yrsmarr6</th>\n",
       "      <th>affairsyn</th>\n",
       "    </tr>\n",
       "  </thead>\n",
       "  <tbody>\n",
       "    <tr>\n",
       "      <th>0</th>\n",
       "      <td>0</td>\n",
       "      <td>0</td>\n",
       "      <td>0</td>\n",
       "      <td>0</td>\n",
       "      <td>1</td>\n",
       "      <td>0</td>\n",
       "      <td>0</td>\n",
       "      <td>0</td>\n",
       "      <td>1</td>\n",
       "      <td>0</td>\n",
       "      <td>0</td>\n",
       "      <td>0</td>\n",
       "      <td>0</td>\n",
       "      <td>0</td>\n",
       "      <td>0</td>\n",
       "      <td>1</td>\n",
       "      <td>0</td>\n",
       "      <td>0</td>\n",
       "    </tr>\n",
       "    <tr>\n",
       "      <th>1</th>\n",
       "      <td>0</td>\n",
       "      <td>0</td>\n",
       "      <td>0</td>\n",
       "      <td>0</td>\n",
       "      <td>1</td>\n",
       "      <td>0</td>\n",
       "      <td>0</td>\n",
       "      <td>0</td>\n",
       "      <td>0</td>\n",
       "      <td>1</td>\n",
       "      <td>0</td>\n",
       "      <td>0</td>\n",
       "      <td>0</td>\n",
       "      <td>1</td>\n",
       "      <td>0</td>\n",
       "      <td>0</td>\n",
       "      <td>0</td>\n",
       "      <td>0</td>\n",
       "    </tr>\n",
       "    <tr>\n",
       "      <th>2</th>\n",
       "      <td>0</td>\n",
       "      <td>0</td>\n",
       "      <td>0</td>\n",
       "      <td>0</td>\n",
       "      <td>1</td>\n",
       "      <td>0</td>\n",
       "      <td>0</td>\n",
       "      <td>0</td>\n",
       "      <td>1</td>\n",
       "      <td>0</td>\n",
       "      <td>0</td>\n",
       "      <td>0</td>\n",
       "      <td>1</td>\n",
       "      <td>0</td>\n",
       "      <td>0</td>\n",
       "      <td>0</td>\n",
       "      <td>0</td>\n",
       "      <td>1</td>\n",
       "    </tr>\n",
       "    <tr>\n",
       "      <th>3</th>\n",
       "      <td>1</td>\n",
       "      <td>0</td>\n",
       "      <td>0</td>\n",
       "      <td>0</td>\n",
       "      <td>1</td>\n",
       "      <td>0</td>\n",
       "      <td>1</td>\n",
       "      <td>0</td>\n",
       "      <td>0</td>\n",
       "      <td>0</td>\n",
       "      <td>0</td>\n",
       "      <td>0</td>\n",
       "      <td>0</td>\n",
       "      <td>0</td>\n",
       "      <td>0</td>\n",
       "      <td>0</td>\n",
       "      <td>1</td>\n",
       "      <td>0</td>\n",
       "    </tr>\n",
       "    <tr>\n",
       "      <th>4</th>\n",
       "      <td>1</td>\n",
       "      <td>0</td>\n",
       "      <td>0</td>\n",
       "      <td>0</td>\n",
       "      <td>0</td>\n",
       "      <td>1</td>\n",
       "      <td>0</td>\n",
       "      <td>0</td>\n",
       "      <td>1</td>\n",
       "      <td>0</td>\n",
       "      <td>0</td>\n",
       "      <td>0</td>\n",
       "      <td>0</td>\n",
       "      <td>1</td>\n",
       "      <td>0</td>\n",
       "      <td>0</td>\n",
       "      <td>0</td>\n",
       "      <td>1</td>\n",
       "    </tr>\n",
       "  </tbody>\n",
       "</table>\n",
       "</div>"
      ],
      "text/plain": [
       "   kids  vryunhap  unhap  avgmarr  hapavg  vryhap  antirel  notrel  slghtrel  \\\n",
       "0     0         0      0        0       1       0        0       0         1   \n",
       "1     0         0      0        0       1       0        0       0         0   \n",
       "2     0         0      0        0       1       0        0       0         1   \n",
       "3     1         0      0        0       1       0        1       0         0   \n",
       "4     1         0      0        0       0       1        0       0         1   \n",
       "\n",
       "   smerel  vryrel  yrsmarr1  yrsmarr2  yrsmarr3  yrsmarr4  yrsmarr5  yrsmarr6  \\\n",
       "0       0       0         0         0         0         0         1         0   \n",
       "1       1       0         0         0         1         0         0         0   \n",
       "2       0       0         0         1         0         0         0         0   \n",
       "3       0       0         0         0         0         0         0         1   \n",
       "4       0       0         0         0         1         0         0         0   \n",
       "\n",
       "   affairsyn  \n",
       "0          0  \n",
       "1          0  \n",
       "2          1  \n",
       "3          0  \n",
       "4          1  "
      ]
     },
     "execution_count": 12,
     "metadata": {},
     "output_type": "execute_result"
    }
   ],
   "source": [
    "df['affairsyn'] =np.where(df.naffairs > 0, 1, 0)\n",
    "df.drop(['naffairs'],axis=1,inplace=True)\n",
    "df.head()"
   ]
  },
  {
   "cell_type": "markdown",
   "id": "f658e768",
   "metadata": {},
   "source": [
    "### First Moment Business Decision or Measures of Central Tendency.\n",
    "* It gives the mean, median and mode values of the dataset.\n",
    "* Mean is the average of the data and it easily gets influenced by the outliers.\n",
    "* Median is the middle most value of the dataset.\n",
    "* Mode is the most repeated value of the dataset.\n",
    "* If the mean, median & mode are same then the data has normal distribution otherwise the distribution is not normal."
   ]
  },
  {
   "cell_type": "code",
   "execution_count": 13,
   "id": "c8ffae12",
   "metadata": {},
   "outputs": [
    {
     "data": {
      "text/plain": [
       "kids         0.715474\n",
       "vryunhap     0.026622\n",
       "unhap        0.109817\n",
       "avgmarr      0.154742\n",
       "hapavg       0.322795\n",
       "vryhap       0.386023\n",
       "antirel      0.079867\n",
       "notrel       0.272879\n",
       "slghtrel     0.214642\n",
       "smerel       0.316140\n",
       "vryrel       0.116473\n",
       "yrsmarr1     0.086522\n",
       "yrsmarr2     0.146423\n",
       "yrsmarr3     0.174709\n",
       "yrsmarr4     0.136439\n",
       "yrsmarr5     0.116473\n",
       "yrsmarr6     0.339434\n",
       "affairsyn    0.249584\n",
       "dtype: float64"
      ]
     },
     "execution_count": 13,
     "metadata": {},
     "output_type": "execute_result"
    }
   ],
   "source": [
    "df.mean()"
   ]
  },
  {
   "cell_type": "code",
   "execution_count": 14,
   "id": "457e7aa8",
   "metadata": {},
   "outputs": [
    {
     "data": {
      "text/plain": [
       "kids         1.0\n",
       "vryunhap     0.0\n",
       "unhap        0.0\n",
       "avgmarr      0.0\n",
       "hapavg       0.0\n",
       "vryhap       0.0\n",
       "antirel      0.0\n",
       "notrel       0.0\n",
       "slghtrel     0.0\n",
       "smerel       0.0\n",
       "vryrel       0.0\n",
       "yrsmarr1     0.0\n",
       "yrsmarr2     0.0\n",
       "yrsmarr3     0.0\n",
       "yrsmarr4     0.0\n",
       "yrsmarr5     0.0\n",
       "yrsmarr6     0.0\n",
       "affairsyn    0.0\n",
       "dtype: float64"
      ]
     },
     "execution_count": 14,
     "metadata": {},
     "output_type": "execute_result"
    }
   ],
   "source": [
    "df.median()"
   ]
  },
  {
   "cell_type": "code",
   "execution_count": 15,
   "id": "b828d378",
   "metadata": {},
   "outputs": [
    {
     "name": "stderr",
     "output_type": "stream",
     "text": [
      "C:\\Users\\lenny\\AppData\\Local\\Temp\\ipykernel_30604\\4235401754.py:1: FutureWarning: Unlike other reduction functions (e.g. `skew`, `kurtosis`), the default behavior of `mode` typically preserves the axis it acts along. In SciPy 1.11.0, this behavior will change: the default value of `keepdims` will become False, the `axis` over which the statistic is taken will be eliminated, and the value None will no longer be accepted. Set `keepdims` to True or False to avoid this warning.\n",
      "  stats.mode(df)\n"
     ]
    },
    {
     "data": {
      "text/plain": [
       "ModeResult(mode=array([[1, 0, 0, 0, 0, 0, 0, 0, 0, 0, 0, 0, 0, 0, 0, 0, 0, 0]],\n",
       "      dtype=int64), count=array([[430, 585, 535, 508, 407, 369, 553, 437, 472, 411, 531, 549, 513,\n",
       "        496, 519, 531, 397, 451]]))"
      ]
     },
     "execution_count": 15,
     "metadata": {},
     "output_type": "execute_result"
    }
   ],
   "source": [
    "stats.mode(df)"
   ]
  },
  {
   "cell_type": "markdown",
   "id": "ff80d2c1",
   "metadata": {},
   "source": [
    "### Second Moment Business Decision or Measures of Dispersion\n",
    "* It contains Variance, Standard Deviation & Range.\n",
    "* It gives a general idea about the spread of data in the dataset.\n",
    "* Variance is the average squared distance of each data point from the mean.\n",
    "* Standard deviation is the root of the variance.\n",
    "* Range is the difference between the max and min data point of the dataset."
   ]
  },
  {
   "cell_type": "code",
   "execution_count": 16,
   "id": "437c14a9",
   "metadata": {},
   "outputs": [
    {
     "data": {
      "text/plain": [
       "kids         0.203910\n",
       "vryunhap     0.025957\n",
       "unhap        0.097920\n",
       "avgmarr      0.131015\n",
       "hapavg       0.218963\n",
       "vryhap       0.237404\n",
       "antirel      0.073611\n",
       "notrel       0.198747\n",
       "slghtrel     0.168852\n",
       "smerel       0.216556\n",
       "vryrel       0.103078\n",
       "yrsmarr1     0.079168\n",
       "yrsmarr2     0.125191\n",
       "yrsmarr3     0.144426\n",
       "yrsmarr4     0.118020\n",
       "yrsmarr5     0.103078\n",
       "yrsmarr6     0.224592\n",
       "affairsyn    0.187604\n",
       "dtype: float64"
      ]
     },
     "execution_count": 16,
     "metadata": {},
     "output_type": "execute_result"
    }
   ],
   "source": [
    "df.var()"
   ]
  },
  {
   "cell_type": "code",
   "execution_count": 17,
   "id": "f2adb8c6",
   "metadata": {},
   "outputs": [
    {
     "data": {
      "text/plain": [
       "kids         0.451564\n",
       "vryunhap     0.161111\n",
       "unhap        0.312922\n",
       "avgmarr      0.361960\n",
       "hapavg       0.467935\n",
       "vryhap       0.487242\n",
       "antirel      0.271313\n",
       "notrel       0.445810\n",
       "slghtrel     0.410916\n",
       "smerel       0.465355\n",
       "vryrel       0.321058\n",
       "yrsmarr1     0.281368\n",
       "yrsmarr2     0.353824\n",
       "yrsmarr3     0.380034\n",
       "yrsmarr4     0.343540\n",
       "yrsmarr5     0.321058\n",
       "yrsmarr6     0.473912\n",
       "affairsyn    0.433133\n",
       "dtype: float64"
      ]
     },
     "execution_count": 17,
     "metadata": {},
     "output_type": "execute_result"
    }
   ],
   "source": [
    "df.std()"
   ]
  },
  {
   "cell_type": "markdown",
   "id": "28a243e8",
   "metadata": {},
   "source": [
    "### THIRD MOMENT BUSINESS DECISION OR SKEWNESS\n",
    "* Skewness gives the measure of asymmetry in a data.\n",
    "* The types of skewness are as follows:\n",
    "    * Negative skewness or left skewed.\n",
    "    * Positive skewness or right skewed.\n",
    "    * If skewness = 0 then it is normally distributed."
   ]
  },
  {
   "cell_type": "code",
   "execution_count": 18,
   "id": "4a418d49",
   "metadata": {},
   "outputs": [
    {
     "data": {
      "text/plain": [
       "kids        -0.957532\n",
       "vryunhap     5.896039\n",
       "unhap        2.502131\n",
       "avgmarr      1.914083\n",
       "hapavg       0.759919\n",
       "vryhap       0.469407\n",
       "antirel      3.107379\n",
       "notrel       1.022318\n",
       "slghtrel     1.393524\n",
       "smerel       0.792831\n",
       "vryrel       2.397125\n",
       "yrsmarr1     2.948863\n",
       "yrsmarr2     2.005280\n",
       "yrsmarr3     1.717621\n",
       "yrsmarr4     2.123620\n",
       "yrsmarr5     2.397125\n",
       "yrsmarr6     0.679881\n",
       "affairsyn    1.160162\n",
       "dtype: float64"
      ]
     },
     "execution_count": 18,
     "metadata": {},
     "output_type": "execute_result"
    }
   ],
   "source": [
    "df.skew()"
   ]
  },
  {
   "cell_type": "markdown",
   "id": "66e9277b",
   "metadata": {},
   "source": [
    "### FOURTH MOMENT BUSINESS DECISION OR KURTOSIS\n",
    "* Kurtosis is the peakedness of the distribution.\n",
    "* Negative kurtosis implies a wider peak and thinner tails.\n",
    "* Positive kurtosis implies a narrow peak and wider tails."
   ]
  },
  {
   "cell_type": "code",
   "execution_count": 19,
   "id": "488baf39",
   "metadata": {
    "scrolled": true
   },
   "outputs": [
    {
     "data": {
      "text/plain": [
       "kids         -1.086759\n",
       "vryunhap     32.872664\n",
       "unhap         4.274874\n",
       "avgmarr       1.669258\n",
       "hapavg       -1.427283\n",
       "vryhap       -1.785610\n",
       "antirel       7.681355\n",
       "notrel       -0.958065\n",
       "slghtrel     -0.058297\n",
       "smerel       -1.376009\n",
       "vryrel        3.758705\n",
       "yrsmarr1      6.718138\n",
       "yrsmarr2      2.027884\n",
       "yrsmarr3      0.953383\n",
       "yrsmarr4      2.518132\n",
       "yrsmarr5      3.758705\n",
       "yrsmarr6     -1.542907\n",
       "affairsyn    -0.656219\n",
       "dtype: float64"
      ]
     },
     "execution_count": 19,
     "metadata": {},
     "output_type": "execute_result"
    }
   ],
   "source": [
    "df.kurt()"
   ]
  },
  {
   "cell_type": "markdown",
   "id": "55e7aebe",
   "metadata": {},
   "source": [
    "### GRAPHICAL REPRESENTATION"
   ]
  },
  {
   "cell_type": "markdown",
   "id": "b0bf49a3",
   "metadata": {},
   "source": [
    "Using the countplots and distribution plots to understand the different variables as all the variables are binary, so using scatterplots and boxplots is not an option. "
   ]
  },
  {
   "cell_type": "code",
   "execution_count": 20,
   "id": "8a27c545",
   "metadata": {
    "scrolled": true
   },
   "outputs": [
    {
     "data": {
      "image/png": "[encoded data removed]",
      "text/plain": [
       "<Figure size 720x360 with 1 Axes>"
      ]
     },
     "metadata": {
      "needs_background": "light"
     },
     "output_type": "display_data"
    }
   ],
   "source": [
    "plt.figure(1, figsize=(10, 5))\n",
    "sns.countplot(x=df[\"kids\"])\n",
    "plt.xticks(rotation = 45)\n",
    "plt.show()"
   ]
  },
  {
   "cell_type": "code",
   "execution_count": 21,
   "id": "e8367ba1",
   "metadata": {},
   "outputs": [
    {
     "data": {
      "text/plain": [
       "<seaborn.axisgrid.FacetGrid at 0x2934a2dbe50>"
      ]
     },
     "execution_count": 21,
     "metadata": {},
     "output_type": "execute_result"
    },
    {
     "data": {
      "image/png": "[encoded data removed]",
      "text/plain": [
       "<Figure size 402.375x360 with 1 Axes>"
      ]
     },
     "metadata": {
      "needs_background": "light"
     },
     "output_type": "display_data"
    }
   ],
   "source": [
    "sns.displot(df, x=\"affairsyn\", hue=\"kids\")"
   ]
  },
  {
   "cell_type": "code",
   "execution_count": 22,
   "id": "d7b769b7",
   "metadata": {
    "scrolled": true
   },
   "outputs": [
    {
     "data": {
      "text/plain": [
       "<seaborn.axisgrid.FacetGrid at 0x2934a199cd0>"
      ]
     },
     "execution_count": 22,
     "metadata": {},
     "output_type": "execute_result"
    },
    {
     "data": {
      "image/png": "[encoded data removed]",
      "text/plain": [
       "<Figure size 720x360 with 2 Axes>"
      ]
     },
     "metadata": {
      "needs_background": "light"
     },
     "output_type": "display_data"
    }
   ],
   "source": [
    "sns.displot(df, x=\"affairsyn\", col=\"kids\")"
   ]
  },
  {
   "cell_type": "code",
   "execution_count": 23,
   "id": "db15b43a",
   "metadata": {},
   "outputs": [
    {
     "data": {
      "text/plain": [
       "Index(['kids', 'vryunhap', 'unhap', 'avgmarr', 'hapavg', 'vryhap', 'antirel',\n",
       "       'notrel', 'slghtrel', 'smerel', 'vryrel', 'yrsmarr1', 'yrsmarr2',\n",
       "       'yrsmarr3', 'yrsmarr4', 'yrsmarr5', 'yrsmarr6', 'affairsyn'],\n",
       "      dtype='object')"
      ]
     },
     "execution_count": 23,
     "metadata": {},
     "output_type": "execute_result"
    }
   ],
   "source": [
    "df.columns"
   ]
  },
  {
   "cell_type": "code",
   "execution_count": 24,
   "id": "4bee9752",
   "metadata": {
    "scrolled": true
   },
   "outputs": [
    {
     "data": {
      "text/plain": [
       "<seaborn.axisgrid.FacetGrid at 0x2934a4af280>"
      ]
     },
     "execution_count": 24,
     "metadata": {},
     "output_type": "execute_result"
    },
    {
     "data": {
      "image/png": "[encoded data removed]",
      "text/plain": [
       "<Figure size 720x360 with 2 Axes>"
      ]
     },
     "metadata": {
      "needs_background": "light"
     },
     "output_type": "display_data"
    }
   ],
   "source": [
    "sns.displot(df,x='affairsyn',col='vryunhap')"
   ]
  },
  {
   "cell_type": "code",
   "execution_count": 25,
   "id": "b8cda8ff",
   "metadata": {
    "scrolled": true
   },
   "outputs": [
    {
     "data": {
      "text/plain": [
       "<seaborn.axisgrid.FacetGrid at 0x2934a3b2250>"
      ]
     },
     "execution_count": 25,
     "metadata": {},
     "output_type": "execute_result"
    },
    {
     "data": {
      "image/png": "[encoded data removed]",
      "text/plain": [
       "<Figure size 720x360 with 2 Axes>"
      ]
     },
     "metadata": {
      "needs_background": "light"
     },
     "output_type": "display_data"
    }
   ],
   "source": [
    "sns.displot(df,x='affairsyn',col='unhap')"
   ]
  },
  {
   "cell_type": "code",
   "execution_count": 26,
   "id": "62732647",
   "metadata": {},
   "outputs": [
    {
     "data": {
      "text/plain": [
       "<seaborn.axisgrid.FacetGrid at 0x2934a4e7310>"
      ]
     },
     "execution_count": 26,
     "metadata": {},
     "output_type": "execute_result"
    },
    {
     "data": {
      "image/png": "[encoded data removed]",
      "text/plain": [
       "<Figure size 720x360 with 2 Axes>"
      ]
     },
     "metadata": {
      "needs_background": "light"
     },
     "output_type": "display_data"
    }
   ],
   "source": [
    "sns.displot(df,x='affairsyn',col='avgmarr')"
   ]
  },
  {
   "cell_type": "code",
   "execution_count": 27,
   "id": "94ca6001",
   "metadata": {},
   "outputs": [
    {
     "data": {
      "text/plain": [
       "<seaborn.axisgrid.FacetGrid at 0x2934b53d190>"
      ]
     },
     "execution_count": 27,
     "metadata": {},
     "output_type": "execute_result"
    },
    {
     "data": {
      "image/png": "[encoded data removed]",
      "text/plain": [
       "<Figure size 720x360 with 2 Axes>"
      ]
     },
     "metadata": {
      "needs_background": "light"
     },
     "output_type": "display_data"
    }
   ],
   "source": [
    "sns.displot(df,x='affairsyn',col='hapavg')"
   ]
  },
  {
   "cell_type": "code",
   "execution_count": 28,
   "id": "84cde6ac",
   "metadata": {},
   "outputs": [
    {
     "data": {
      "text/plain": [
       "<seaborn.axisgrid.FacetGrid at 0x2934b689d90>"
      ]
     },
     "execution_count": 28,
     "metadata": {},
     "output_type": "execute_result"
    },
    {
     "data": {
      "image/png": "[encoded data removed]",
      "text/plain": [
       "<Figure size 720x360 with 2 Axes>"
      ]
     },
     "metadata": {
      "needs_background": "light"
     },
     "output_type": "display_data"
    }
   ],
   "source": [
    "sns.displot(df,x='affairsyn',col='vryhap')"
   ]
  },
  {
   "cell_type": "code",
   "execution_count": 29,
   "id": "b68a25ff",
   "metadata": {},
   "outputs": [
    {
     "data": {
      "text/plain": [
       "<seaborn.axisgrid.FacetGrid at 0x2934b806b20>"
      ]
     },
     "execution_count": 29,
     "metadata": {},
     "output_type": "execute_result"
    },
    {
     "data": {
      "image/png": "[encoded data removed]",
      "text/plain": [
       "<Figure size 720x360 with 2 Axes>"
      ]
     },
     "metadata": {
      "needs_background": "light"
     },
     "output_type": "display_data"
    }
   ],
   "source": [
    "sns.displot(df,x='affairsyn',col='antirel')"
   ]
  },
  {
   "cell_type": "code",
   "execution_count": 30,
   "id": "3be26ccb",
   "metadata": {},
   "outputs": [
    {
     "data": {
      "text/plain": [
       "<seaborn.axisgrid.FacetGrid at 0x2934b534fd0>"
      ]
     },
     "execution_count": 30,
     "metadata": {},
     "output_type": "execute_result"
    },
    {
     "data": {
      "image/png": "[encoded data removed]",
      "text/plain": [
       "<Figure size 720x360 with 2 Axes>"
      ]
     },
     "metadata": {
      "needs_background": "light"
     },
     "output_type": "display_data"
    }
   ],
   "source": [
    "sns.displot(df,x='affairsyn',col='notrel')"
   ]
  },
  {
   "cell_type": "code",
   "execution_count": 31,
   "id": "104cf210",
   "metadata": {},
   "outputs": [
    {
     "data": {
      "text/plain": [
       "<seaborn.axisgrid.FacetGrid at 0x2934b841340>"
      ]
     },
     "execution_count": 31,
     "metadata": {},
     "output_type": "execute_result"
    },
    {
     "data": {
      "image/png": "[encoded data removed]",
      "text/plain": [
       "<Figure size 720x360 with 2 Axes>"
      ]
     },
     "metadata": {
      "needs_background": "light"
     },
     "output_type": "display_data"
    }
   ],
   "source": [
    "sns.displot(df,x='affairsyn',col='slghtrel')"
   ]
  },
  {
   "cell_type": "code",
   "execution_count": 32,
   "id": "2023e350",
   "metadata": {},
   "outputs": [
    {
     "data": {
      "text/plain": [
       "<seaborn.axisgrid.FacetGrid at 0x2934cbdea30>"
      ]
     },
     "execution_count": 32,
     "metadata": {},
     "output_type": "execute_result"
    },
    {
     "data": {
      "image/png": "[encoded data removed]",
      "text/plain": [
       "<Figure size 720x360 with 2 Axes>"
      ]
     },
     "metadata": {
      "needs_background": "light"
     },
     "output_type": "display_data"
    }
   ],
   "source": [
    "sns.displot(df,x='affairsyn',col='smerel')"
   ]
  },
  {
   "cell_type": "code",
   "execution_count": 33,
   "id": "5b28ee34",
   "metadata": {},
   "outputs": [
    {
     "data": {
      "text/plain": [
       "<seaborn.axisgrid.FacetGrid at 0x2934b7134f0>"
      ]
     },
     "execution_count": 33,
     "metadata": {},
     "output_type": "execute_result"
    },
    {
     "data": {
      "image/png": "[encoded data removed]",
      "text/plain": [
       "<Figure size 720x360 with 2 Axes>"
      ]
     },
     "metadata": {
      "needs_background": "light"
     },
     "output_type": "display_data"
    }
   ],
   "source": [
    "sns.displot(df,x='affairsyn',col='vryrel')"
   ]
  },
  {
   "cell_type": "code",
   "execution_count": 34,
   "id": "517968ab",
   "metadata": {},
   "outputs": [
    {
     "data": {
      "text/plain": [
       "<seaborn.axisgrid.FacetGrid at 0x2934cda6910>"
      ]
     },
     "execution_count": 34,
     "metadata": {},
     "output_type": "execute_result"
    },
    {
     "data": {
      "image/png": "[encoded data removed]",
      "text/plain": [
       "<Figure size 720x360 with 2 Axes>"
      ]
     },
     "metadata": {
      "needs_background": "light"
     },
     "output_type": "display_data"
    }
   ],
   "source": [
    "sns.displot(df,x='affairsyn',col='yrsmarr1')"
   ]
  },
  {
   "cell_type": "code",
   "execution_count": 35,
   "id": "18e5758f",
   "metadata": {},
   "outputs": [
    {
     "data": {
      "text/plain": [
       "<seaborn.axisgrid.FacetGrid at 0x2934ce2f5b0>"
      ]
     },
     "execution_count": 35,
     "metadata": {},
     "output_type": "execute_result"
    },
    {
     "data": {
      "image/png": "[encoded data removed]",
      "text/plain": [
       "<Figure size 720x360 with 2 Axes>"
      ]
     },
     "metadata": {
      "needs_background": "light"
     },
     "output_type": "display_data"
    }
   ],
   "source": [
    "sns.displot(df,x='affairsyn',col='yrsmarr2')"
   ]
  },
  {
   "cell_type": "code",
   "execution_count": 36,
   "id": "6a1fdb61",
   "metadata": {},
   "outputs": [
    {
     "data": {
      "text/plain": [
       "<seaborn.axisgrid.FacetGrid at 0x2934ce56700>"
      ]
     },
     "execution_count": 36,
     "metadata": {},
     "output_type": "execute_result"
    },
    {
     "data": {
      "image/png": "[encoded data removed]",
      "text/plain": [
       "<Figure size 720x360 with 2 Axes>"
      ]
     },
     "metadata": {
      "needs_background": "light"
     },
     "output_type": "display_data"
    }
   ],
   "source": [
    "sns.displot(df,x='affairsyn',col='yrsmarr3')"
   ]
  },
  {
   "cell_type": "code",
   "execution_count": 37,
   "id": "a923723e",
   "metadata": {},
   "outputs": [
    {
     "data": {
      "text/plain": [
       "<seaborn.axisgrid.FacetGrid at 0x2934e05e1c0>"
      ]
     },
     "execution_count": 37,
     "metadata": {},
     "output_type": "execute_result"
    },
    {
     "data": {
      "image/png": "[encoded data removed]",
      "text/plain": [
       "<Figure size 720x360 with 2 Axes>"
      ]
     },
     "metadata": {
      "needs_background": "light"
     },
     "output_type": "display_data"
    }
   ],
   "source": [
    "sns.displot(df,x='affairsyn',col='yrsmarr4')"
   ]
  },
  {
   "cell_type": "code",
   "execution_count": 38,
   "id": "2f32484a",
   "metadata": {},
   "outputs": [
    {
     "data": {
      "text/plain": [
       "<seaborn.axisgrid.FacetGrid at 0x2934cdb5670>"
      ]
     },
     "execution_count": 38,
     "metadata": {},
     "output_type": "execute_result"
    },
    {
     "data": {
      "image/png": "[encoded data removed]",
      "text/plain": [
       "<Figure size 720x360 with 2 Axes>"
      ]
     },
     "metadata": {
      "needs_background": "light"
     },
     "output_type": "display_data"
    }
   ],
   "source": [
    "sns.displot(df,x='affairsyn',col='yrsmarr5')"
   ]
  },
  {
   "cell_type": "code",
   "execution_count": 39,
   "id": "777d706a",
   "metadata": {},
   "outputs": [
    {
     "data": {
      "text/plain": [
       "<seaborn.axisgrid.FacetGrid at 0x2934e008e20>"
      ]
     },
     "execution_count": 39,
     "metadata": {},
     "output_type": "execute_result"
    },
    {
     "data": {
      "image/png": "[encoded data removed]",
      "text/plain": [
       "<Figure size 720x360 with 2 Axes>"
      ]
     },
     "metadata": {
      "needs_background": "light"
     },
     "output_type": "display_data"
    }
   ],
   "source": [
    "sns.displot(df,x='affairsyn',col='yrsmarr6')"
   ]
  },
  {
   "cell_type": "markdown",
   "id": "35429b83",
   "metadata": {},
   "source": [
    "* From the above plots we can see that people with kids have more chances of having an affair \n",
    "* The chances of an affair also increases with higher years of marriage. \n",
    "* Happy and very happy people also have higher chance of having an affair. \n",
    "* Not religious and slightly religious people also have higher chance of having an affair comparatively. "
   ]
  },
  {
   "cell_type": "markdown",
   "id": "1258845a",
   "metadata": {},
   "source": [
    "__CORRELATION CHART__"
   ]
  },
  {
   "cell_type": "code",
   "execution_count": 40,
   "id": "c7e00a65",
   "metadata": {},
   "outputs": [
    {
     "data": {
      "text/plain": [
       "<AxesSubplot:>"
      ]
     },
     "execution_count": 40,
     "metadata": {},
     "output_type": "execute_result"
    },
    {
     "data": {
      "image/png": "[encoded data removed]",
      "text/plain": [
       "<Figure size 720x576 with 2 Axes>"
      ]
     },
     "metadata": {
      "needs_background": "light"
     },
     "output_type": "display_data"
    }
   ],
   "source": [
    "plt.figure(figsize=(10,8))\n",
    "sns.heatmap(df.corr(),annot=True)"
   ]
  },
  {
   "cell_type": "markdown",
   "id": "ac3f771f",
   "metadata": {},
   "source": [
    "from the correlation chart it is clear that no variable has a very strong relation with the output variable"
   ]
  },
  {
   "cell_type": "markdown",
   "id": "2b7cb5a8",
   "metadata": {},
   "source": [
    "#### MODEL BUILDING"
   ]
  },
  {
   "cell_type": "markdown",
   "id": "d3f334e3",
   "metadata": {},
   "source": [
    "Importing the library required for building the model. "
   ]
  },
  {
   "cell_type": "code",
   "execution_count": 41,
   "id": "dae39481",
   "metadata": {},
   "outputs": [],
   "source": [
    "import statsmodels.formula.api as smf"
   ]
  },
  {
   "cell_type": "markdown",
   "id": "5ba45a9f",
   "metadata": {},
   "source": [
    "__Logistic Regression__"
   ]
  },
  {
   "cell_type": "markdown",
   "id": "54f2a1c5",
   "metadata": {},
   "source": [
    "Fitting the model"
   ]
  },
  {
   "cell_type": "code",
   "execution_count": 42,
   "id": "5a7d2574",
   "metadata": {},
   "outputs": [
    {
     "name": "stdout",
     "output_type": "stream",
     "text": [
      "Optimization terminated successfully.\n",
      "         Current function value: 0.501009\n",
      "         Iterations 6\n"
     ]
    }
   ],
   "source": [
    "logit_model = smf.logit('affairsyn ~ kids + vryunhap + unhap + avgmarr + hapavg + vryhap + antirel + notrel + slghtrel + smerel + vryrel + yrsmarr1 + yrsmarr2 + yrsmarr3 + yrsmarr4 + yrsmarr5 + yrsmarr6', data = df).fit()"
   ]
  },
  {
   "cell_type": "markdown",
   "id": "dc91d100",
   "metadata": {},
   "source": [
    "For getting the value of AIC we use the summary2"
   ]
  },
  {
   "cell_type": "code",
   "execution_count": 43,
   "id": "a4e6d0f8",
   "metadata": {},
   "outputs": [
    {
     "data": {
      "text/html": [
       "<table class=\"simpletable\">\n",
       "<tr>\n",
       "        <td>Model:</td>              <td>Logit</td>      <td>Pseudo R-squared:</td>    <td>0.108</td>  \n",
       "</tr>\n",
       "<tr>\n",
       "  <td>Dependent Variable:</td>     <td>affairsyn</td>          <td>AIC:</td>         <td>632.2126</td> \n",
       "</tr>\n",
       "<tr>\n",
       "         <td>Date:</td>        <td>2022-11-22 23:34</td>       <td>BIC:</td>         <td>698.1915</td> \n",
       "</tr>\n",
       "<tr>\n",
       "   <td>No. Observations:</td>         <td>601</td>        <td>Log-Likelihood:</td>    <td>-301.11</td> \n",
       "</tr>\n",
       "<tr>\n",
       "       <td>Df Model:</td>             <td>14</td>            <td>LL-Null:</td>        <td>-337.69</td> \n",
       "</tr>\n",
       "<tr>\n",
       "     <td>Df Residuals:</td>           <td>586</td>         <td>LLR p-value:</td>    <td>5.1293e-10</td>\n",
       "</tr>\n",
       "<tr>\n",
       "      <td>Converged:</td>           <td>1.0000</td>           <td>Scale:</td>         <td>1.0000</td>  \n",
       "</tr>\n",
       "<tr>\n",
       "    <td>No. Iterations:</td>        <td>6.0000</td>              <td></td>               <td></td>     \n",
       "</tr>\n",
       "</table>\n",
       "<table class=\"simpletable\">\n",
       "<tr>\n",
       "      <td></td>       <th>Coef.</th>    <th>Std.Err.</th>      <th>z</th>     <th>P>|z|</th>     <th>[0.025</th>        <th>0.975]</th>    \n",
       "</tr>\n",
       "<tr>\n",
       "  <th>Intercept</th> <td>-0.6174</td>      <td>nan</td>       <td>nan</td>     <td>nan</td>        <td>nan</td>           <td>nan</td>     \n",
       "</tr>\n",
       "<tr>\n",
       "  <th>kids</th>      <td>0.1727</td>     <td>0.3110</td>    <td>0.5555</td>  <td>0.5785</td>     <td>-0.4367</td>       <td>0.7822</td>    \n",
       "</tr>\n",
       "<tr>\n",
       "  <th>vryunhap</th>  <td>0.5130</td>  <td>6583635.1142</td> <td>0.0000</td>  <td>1.0000</td> <td>-12903687.1982</td> <td>12903688.2243</td>\n",
       "</tr>\n",
       "<tr>\n",
       "  <th>unhap</th>     <td>0.6187</td>  <td>6583635.1142</td> <td>0.0000</td>  <td>1.0000</td> <td>-12903687.0926</td> <td>12903688.3299</td>\n",
       "</tr>\n",
       "<tr>\n",
       "  <th>avgmarr</th>   <td>-0.2178</td> <td>6583635.1142</td> <td>-0.0000</td> <td>1.0000</td> <td>-12903687.9291</td> <td>12903687.4934</td>\n",
       "</tr>\n",
       "<tr>\n",
       "  <th>hapavg</th>    <td>-0.5264</td> <td>6583635.1142</td> <td>-0.0000</td> <td>1.0000</td> <td>-12903688.2377</td> <td>12903687.1849</td>\n",
       "</tr>\n",
       "<tr>\n",
       "  <th>vryhap</th>    <td>-1.0049</td> <td>6583635.1142</td> <td>-0.0000</td> <td>1.0000</td> <td>-12903688.7162</td> <td>12903686.7064</td>\n",
       "</tr>\n",
       "<tr>\n",
       "  <th>antirel</th>   <td>0.7815</td>  <td>4005951.2501</td> <td>0.0000</td>  <td>1.0000</td>  <td>-7851519.3926</td> <td>7851520.9556</td> \n",
       "</tr>\n",
       "<tr>\n",
       "  <th>notrel</th>    <td>-0.2052</td> <td>4005951.2501</td> <td>-0.0000</td> <td>1.0000</td>  <td>-7851520.3793</td> <td>7851519.9689</td> \n",
       "</tr>\n",
       "<tr>\n",
       "  <th>slghtrel</th>  <td>0.1848</td>  <td>4005951.2501</td> <td>0.0000</td>  <td>1.0000</td>  <td>-7851519.9893</td> <td>7851520.3589</td> \n",
       "</tr>\n",
       "<tr>\n",
       "  <th>smerel</th>    <td>-0.7377</td> <td>4005951.2501</td> <td>-0.0000</td> <td>1.0000</td>  <td>-7851520.9118</td> <td>7851519.4364</td> \n",
       "</tr>\n",
       "<tr>\n",
       "  <th>vryrel</th>    <td>-0.6408</td> <td>4005951.2501</td> <td>-0.0000</td> <td>1.0000</td>  <td>-7851520.8149</td> <td>7851519.5333</td> \n",
       "</tr>\n",
       "<tr>\n",
       "  <th>yrsmarr1</th>  <td>-0.8579</td> <td>6925205.0692</td> <td>-0.0000</td> <td>1.0000</td> <td>-13573153.3791</td> <td>13573151.6632</td>\n",
       "</tr>\n",
       "<tr>\n",
       "  <th>yrsmarr2</th>  <td>-0.5608</td> <td>6925205.0692</td> <td>-0.0000</td> <td>1.0000</td> <td>-13573153.0819</td> <td>13573151.9603</td>\n",
       "</tr>\n",
       "<tr>\n",
       "  <th>yrsmarr3</th>  <td>0.0635</td>  <td>6925205.0692</td> <td>0.0000</td>  <td>1.0000</td> <td>-13573152.4576</td> <td>13573152.5846</td>\n",
       "</tr>\n",
       "<tr>\n",
       "  <th>yrsmarr4</th>  <td>0.0891</td>  <td>6925205.0692</td> <td>0.0000</td>  <td>1.0000</td> <td>-13573152.4320</td> <td>13573152.6102</td>\n",
       "</tr>\n",
       "<tr>\n",
       "  <th>yrsmarr5</th>  <td>0.4088</td>  <td>6925205.0692</td> <td>0.0000</td>  <td>1.0000</td> <td>-13573152.1123</td> <td>13573152.9299</td>\n",
       "</tr>\n",
       "<tr>\n",
       "  <th>yrsmarr6</th>  <td>0.2399</td>  <td>6925205.0692</td> <td>0.0000</td>  <td>1.0000</td> <td>-13573152.2812</td> <td>13573152.7610</td>\n",
       "</tr>\n",
       "</table>"
      ],
      "text/plain": [
       "<class 'statsmodels.iolib.summary2.Summary'>\n",
       "\"\"\"\n",
       "                              Results: Logit\n",
       "==========================================================================\n",
       "Model:                 Logit               Pseudo R-squared:    0.108     \n",
       "Dependent Variable:    affairsyn           AIC:                 632.2126  \n",
       "Date:                  2022-11-22 23:34    BIC:                 698.1915  \n",
       "No. Observations:      601                 Log-Likelihood:      -301.11   \n",
       "Df Model:              14                  LL-Null:             -337.69   \n",
       "Df Residuals:          586                 LLR p-value:         5.1293e-10\n",
       "Converged:             1.0000              Scale:               1.0000    \n",
       "No. Iterations:        6.0000                                             \n",
       "--------------------------------------------------------------------------\n",
       "           Coef.    Std.Err.      z    P>|z|      [0.025         0.975]   \n",
       "--------------------------------------------------------------------------\n",
       "Intercept -0.6174          nan     nan    nan            nan           nan\n",
       "kids       0.1727       0.3110  0.5555 0.5785        -0.4367        0.7822\n",
       "vryunhap   0.5130 6583635.1142  0.0000 1.0000 -12903687.1982 12903688.2243\n",
       "unhap      0.6187 6583635.1142  0.0000 1.0000 -12903687.0926 12903688.3299\n",
       "avgmarr   -0.2178 6583635.1142 -0.0000 1.0000 -12903687.9291 12903687.4934\n",
       "hapavg    -0.5264 6583635.1142 -0.0000 1.0000 -12903688.2377 12903687.1849\n",
       "vryhap    -1.0049 6583635.1142 -0.0000 1.0000 -12903688.7162 12903686.7064\n",
       "antirel    0.7815 4005951.2501  0.0000 1.0000  -7851519.3926  7851520.9556\n",
       "notrel    -0.2052 4005951.2501 -0.0000 1.0000  -7851520.3793  7851519.9689\n",
       "slghtrel   0.1848 4005951.2501  0.0000 1.0000  -7851519.9893  7851520.3589\n",
       "smerel    -0.7377 4005951.2501 -0.0000 1.0000  -7851520.9118  7851519.4364\n",
       "vryrel    -0.6408 4005951.2501 -0.0000 1.0000  -7851520.8149  7851519.5333\n",
       "yrsmarr1  -0.8579 6925205.0692 -0.0000 1.0000 -13573153.3791 13573151.6632\n",
       "yrsmarr2  -0.5608 6925205.0692 -0.0000 1.0000 -13573153.0819 13573151.9603\n",
       "yrsmarr3   0.0635 6925205.0692  0.0000 1.0000 -13573152.4576 13573152.5846\n",
       "yrsmarr4   0.0891 6925205.0692  0.0000 1.0000 -13573152.4320 13573152.6102\n",
       "yrsmarr5   0.4088 6925205.0692  0.0000 1.0000 -13573152.1123 13573152.9299\n",
       "yrsmarr6   0.2399 6925205.0692  0.0000 1.0000 -13573152.2812 13573152.7610\n",
       "==========================================================================\n",
       "\n",
       "\"\"\""
      ]
     },
     "execution_count": 43,
     "metadata": {},
     "output_type": "execute_result"
    }
   ],
   "source": [
    "logit_model.summary2()"
   ]
  },
  {
   "cell_type": "code",
   "execution_count": 44,
   "id": "facd619f",
   "metadata": {},
   "outputs": [
    {
     "data": {
      "text/html": [
       "<table class=\"simpletable\">\n",
       "<caption>Logit Regression Results</caption>\n",
       "<tr>\n",
       "  <th>Dep. Variable:</th>       <td>affairsyn</td>    <th>  No. Observations:  </th>  <td>   601</td>  \n",
       "</tr>\n",
       "<tr>\n",
       "  <th>Model:</th>                 <td>Logit</td>      <th>  Df Residuals:      </th>  <td>   586</td>  \n",
       "</tr>\n",
       "<tr>\n",
       "  <th>Method:</th>                 <td>MLE</td>       <th>  Df Model:          </th>  <td>    14</td>  \n",
       "</tr>\n",
       "<tr>\n",
       "  <th>Date:</th>            <td>Tue, 22 Nov 2022</td> <th>  Pseudo R-squ.:     </th>  <td>0.1083</td>  \n",
       "</tr>\n",
       "<tr>\n",
       "  <th>Time:</th>                <td>23:34:38</td>     <th>  Log-Likelihood:    </th> <td> -301.11</td> \n",
       "</tr>\n",
       "<tr>\n",
       "  <th>converged:</th>             <td>True</td>       <th>  LL-Null:           </th> <td> -337.69</td> \n",
       "</tr>\n",
       "<tr>\n",
       "  <th>Covariance Type:</th>     <td>nonrobust</td>    <th>  LLR p-value:       </th> <td>5.129e-10</td>\n",
       "</tr>\n",
       "</table>\n",
       "<table class=\"simpletable\">\n",
       "<tr>\n",
       "      <td></td>         <th>coef</th>     <th>std err</th>      <th>z</th>      <th>P>|z|</th>  <th>[0.025</th>    <th>0.975]</th>  \n",
       "</tr>\n",
       "<tr>\n",
       "  <th>Intercept</th> <td>   -0.6174</td> <td>      nan</td> <td>      nan</td> <td>   nan</td> <td>      nan</td> <td>      nan</td>\n",
       "</tr>\n",
       "<tr>\n",
       "  <th>kids</th>      <td>    0.1727</td> <td>    0.311</td> <td>    0.556</td> <td> 0.579</td> <td>   -0.437</td> <td>    0.782</td>\n",
       "</tr>\n",
       "<tr>\n",
       "  <th>vryunhap</th>  <td>    0.5130</td> <td> 6.58e+06</td> <td> 7.79e-08</td> <td> 1.000</td> <td>-1.29e+07</td> <td> 1.29e+07</td>\n",
       "</tr>\n",
       "<tr>\n",
       "  <th>unhap</th>     <td>    0.6187</td> <td> 6.58e+06</td> <td>  9.4e-08</td> <td> 1.000</td> <td>-1.29e+07</td> <td> 1.29e+07</td>\n",
       "</tr>\n",
       "<tr>\n",
       "  <th>avgmarr</th>   <td>   -0.2178</td> <td> 6.58e+06</td> <td>-3.31e-08</td> <td> 1.000</td> <td>-1.29e+07</td> <td> 1.29e+07</td>\n",
       "</tr>\n",
       "<tr>\n",
       "  <th>hapavg</th>    <td>   -0.5264</td> <td> 6.58e+06</td> <td>   -8e-08</td> <td> 1.000</td> <td>-1.29e+07</td> <td> 1.29e+07</td>\n",
       "</tr>\n",
       "<tr>\n",
       "  <th>vryhap</th>    <td>   -1.0049</td> <td> 6.58e+06</td> <td>-1.53e-07</td> <td> 1.000</td> <td>-1.29e+07</td> <td> 1.29e+07</td>\n",
       "</tr>\n",
       "<tr>\n",
       "  <th>antirel</th>   <td>    0.7815</td> <td> 4.01e+06</td> <td> 1.95e-07</td> <td> 1.000</td> <td>-7.85e+06</td> <td> 7.85e+06</td>\n",
       "</tr>\n",
       "<tr>\n",
       "  <th>notrel</th>    <td>   -0.2052</td> <td> 4.01e+06</td> <td>-5.12e-08</td> <td> 1.000</td> <td>-7.85e+06</td> <td> 7.85e+06</td>\n",
       "</tr>\n",
       "<tr>\n",
       "  <th>slghtrel</th>  <td>    0.1848</td> <td> 4.01e+06</td> <td> 4.61e-08</td> <td> 1.000</td> <td>-7.85e+06</td> <td> 7.85e+06</td>\n",
       "</tr>\n",
       "<tr>\n",
       "  <th>smerel</th>    <td>   -0.7377</td> <td> 4.01e+06</td> <td>-1.84e-07</td> <td> 1.000</td> <td>-7.85e+06</td> <td> 7.85e+06</td>\n",
       "</tr>\n",
       "<tr>\n",
       "  <th>vryrel</th>    <td>   -0.6408</td> <td> 4.01e+06</td> <td> -1.6e-07</td> <td> 1.000</td> <td>-7.85e+06</td> <td> 7.85e+06</td>\n",
       "</tr>\n",
       "<tr>\n",
       "  <th>yrsmarr1</th>  <td>   -0.8579</td> <td> 6.93e+06</td> <td>-1.24e-07</td> <td> 1.000</td> <td>-1.36e+07</td> <td> 1.36e+07</td>\n",
       "</tr>\n",
       "<tr>\n",
       "  <th>yrsmarr2</th>  <td>   -0.5608</td> <td> 6.93e+06</td> <td> -8.1e-08</td> <td> 1.000</td> <td>-1.36e+07</td> <td> 1.36e+07</td>\n",
       "</tr>\n",
       "<tr>\n",
       "  <th>yrsmarr3</th>  <td>    0.0635</td> <td> 6.93e+06</td> <td> 9.17e-09</td> <td> 1.000</td> <td>-1.36e+07</td> <td> 1.36e+07</td>\n",
       "</tr>\n",
       "<tr>\n",
       "  <th>yrsmarr4</th>  <td>    0.0891</td> <td> 6.93e+06</td> <td> 1.29e-08</td> <td> 1.000</td> <td>-1.36e+07</td> <td> 1.36e+07</td>\n",
       "</tr>\n",
       "<tr>\n",
       "  <th>yrsmarr5</th>  <td>    0.4088</td> <td> 6.93e+06</td> <td>  5.9e-08</td> <td> 1.000</td> <td>-1.36e+07</td> <td> 1.36e+07</td>\n",
       "</tr>\n",
       "<tr>\n",
       "  <th>yrsmarr6</th>  <td>    0.2399</td> <td> 6.93e+06</td> <td> 3.46e-08</td> <td> 1.000</td> <td>-1.36e+07</td> <td> 1.36e+07</td>\n",
       "</tr>\n",
       "</table>"
      ],
      "text/plain": [
       "<class 'statsmodels.iolib.summary.Summary'>\n",
       "\"\"\"\n",
       "                           Logit Regression Results                           \n",
       "==============================================================================\n",
       "Dep. Variable:              affairsyn   No. Observations:                  601\n",
       "Model:                          Logit   Df Residuals:                      586\n",
       "Method:                           MLE   Df Model:                           14\n",
       "Date:                Tue, 22 Nov 2022   Pseudo R-squ.:                  0.1083\n",
       "Time:                        23:34:38   Log-Likelihood:                -301.11\n",
       "converged:                       True   LL-Null:                       -337.69\n",
       "Covariance Type:            nonrobust   LLR p-value:                 5.129e-10\n",
       "==============================================================================\n",
       "                 coef    std err          z      P>|z|      [0.025      0.975]\n",
       "------------------------------------------------------------------------------\n",
       "Intercept     -0.6174        nan        nan        nan         nan         nan\n",
       "kids           0.1727      0.311      0.556      0.579      -0.437       0.782\n",
       "vryunhap       0.5130   6.58e+06   7.79e-08      1.000   -1.29e+07    1.29e+07\n",
       "unhap          0.6187   6.58e+06    9.4e-08      1.000   -1.29e+07    1.29e+07\n",
       "avgmarr       -0.2178   6.58e+06  -3.31e-08      1.000   -1.29e+07    1.29e+07\n",
       "hapavg        -0.5264   6.58e+06     -8e-08      1.000   -1.29e+07    1.29e+07\n",
       "vryhap        -1.0049   6.58e+06  -1.53e-07      1.000   -1.29e+07    1.29e+07\n",
       "antirel        0.7815   4.01e+06   1.95e-07      1.000   -7.85e+06    7.85e+06\n",
       "notrel        -0.2052   4.01e+06  -5.12e-08      1.000   -7.85e+06    7.85e+06\n",
       "slghtrel       0.1848   4.01e+06   4.61e-08      1.000   -7.85e+06    7.85e+06\n",
       "smerel        -0.7377   4.01e+06  -1.84e-07      1.000   -7.85e+06    7.85e+06\n",
       "vryrel        -0.6408   4.01e+06   -1.6e-07      1.000   -7.85e+06    7.85e+06\n",
       "yrsmarr1      -0.8579   6.93e+06  -1.24e-07      1.000   -1.36e+07    1.36e+07\n",
       "yrsmarr2      -0.5608   6.93e+06   -8.1e-08      1.000   -1.36e+07    1.36e+07\n",
       "yrsmarr3       0.0635   6.93e+06   9.17e-09      1.000   -1.36e+07    1.36e+07\n",
       "yrsmarr4       0.0891   6.93e+06   1.29e-08      1.000   -1.36e+07    1.36e+07\n",
       "yrsmarr5       0.4088   6.93e+06    5.9e-08      1.000   -1.36e+07    1.36e+07\n",
       "yrsmarr6       0.2399   6.93e+06   3.46e-08      1.000   -1.36e+07    1.36e+07\n",
       "==============================================================================\n",
       "\"\"\""
      ]
     },
     "execution_count": 44,
     "metadata": {},
     "output_type": "execute_result"
    }
   ],
   "source": [
    "logit_model.summary()"
   ]
  },
  {
   "cell_type": "markdown",
   "id": "f54164aa",
   "metadata": {},
   "source": [
    "From the summary we can see that the probability have very high values but since the variables are binary we can ignore the probabilities. from summary2 we consider the AIC value which we can use to compare the models and decide which is better. "
   ]
  },
  {
   "cell_type": "markdown",
   "id": "a844dffb",
   "metadata": {},
   "source": [
    "Loading the libraries required for getting the accuracy scores of the model. "
   ]
  },
  {
   "cell_type": "code",
   "execution_count": 45,
   "id": "8dc28750",
   "metadata": {},
   "outputs": [],
   "source": [
    "from sklearn import metrics\n",
    "from sklearn.metrics import roc_curve, auc\n",
    "from sklearn.metrics import classification_report"
   ]
  },
  {
   "cell_type": "markdown",
   "id": "e56a3ce0",
   "metadata": {},
   "source": [
    "Predicting the values using the model. "
   ]
  },
  {
   "cell_type": "code",
   "execution_count": 46,
   "id": "65060049",
   "metadata": {},
   "outputs": [],
   "source": [
    "pred = logit_model.predict(df.iloc[ :, 0:17 ])"
   ]
  },
  {
   "cell_type": "markdown",
   "id": "3ed956cc",
   "metadata": {},
   "source": [
    "From the sklearn library using roc_curve to find the fpr, tpr and thresholds to find the optimal threshold. "
   ]
  },
  {
   "cell_type": "code",
   "execution_count": 47,
   "id": "6556d47e",
   "metadata": {},
   "outputs": [
    {
     "data": {
      "text/plain": [
       "0.252157157013533"
      ]
     },
     "execution_count": 47,
     "metadata": {},
     "output_type": "execute_result"
    }
   ],
   "source": [
    "# from sklearn import metrics\n",
    "fpr, tpr, thresholds = roc_curve(df.affairsyn, pred)\n",
    "# Using the argmax to find the index which has the highest difference between the True Positive Rate and False Positive Rate. \n",
    "optimal_idx = np.argmax(tpr - fpr)\n",
    "# Identifying the optimal threshold and saving it using the index value. \n",
    "optimal_threshold = thresholds[optimal_idx]\n",
    "optimal_threshold"
   ]
  },
  {
   "cell_type": "markdown",
   "id": "ab668054",
   "metadata": {},
   "source": [
    "Importing the library required to create the ROC curve. "
   ]
  },
  {
   "cell_type": "code",
   "execution_count": 48,
   "id": "5befbe0c",
   "metadata": {},
   "outputs": [],
   "source": [
    "import pylab as pl"
   ]
  },
  {
   "cell_type": "code",
   "execution_count": 49,
   "id": "4ad6f26d",
   "metadata": {},
   "outputs": [
    {
     "data": {
      "image/png": "[encoded data removed]",
      "text/plain": [
       "<Figure size 432x288 with 1 Axes>"
      ]
     },
     "metadata": {
      "needs_background": "light"
     },
     "output_type": "display_data"
    }
   ],
   "source": [
    "pl.plot(fpr,tpr, marker='.', label='Logistic');pl.xlabel('False Positive Rate');pl.ylabel('True Positive Rate');pl.title('Reciever Operating Characteristic Curve')\n",
    "pl.legend()\n",
    "pl.show()"
   ]
  },
  {
   "cell_type": "markdown",
   "id": "bad70069",
   "metadata": {},
   "source": [
    "Using the auc function to get the Area under the ROC Curve. "
   ]
  },
  {
   "cell_type": "code",
   "execution_count": 50,
   "id": "62414990",
   "metadata": {
    "scrolled": true
   },
   "outputs": [
    {
     "name": "stdout",
     "output_type": "stream",
     "text": [
      "Area under the ROC curve : 0.720880\n"
     ]
    }
   ],
   "source": [
    "roc_auc = auc(fpr, tpr)\n",
    "print(\"Area under the ROC curve : %f\" % roc_auc)"
   ]
  },
  {
   "cell_type": "markdown",
   "id": "a472e1d7",
   "metadata": {},
   "source": [
    "Getting the classification report after setting the optimal threshold value as the cutoff value and converting the predicted probabilities into the binary output. "
   ]
  },
  {
   "cell_type": "code",
   "execution_count": 51,
   "id": "acf2389f",
   "metadata": {},
   "outputs": [
    {
     "name": "stdout",
     "output_type": "stream",
     "text": [
      "              precision    recall  f1-score   support\n",
      "\n",
      "           0       0.86      0.71      0.77       451\n",
      "           1       0.42      0.65      0.51       150\n",
      "\n",
      "    accuracy                           0.69       601\n",
      "   macro avg       0.64      0.68      0.64       601\n",
      "weighted avg       0.75      0.69      0.71       601\n",
      "\n"
     ]
    }
   ],
   "source": [
    "# filling all the cells with zeroes\n",
    "df[\"pred\"] = np.zeros(601)\n",
    "# taking threshold value and above the prob value will be treated as correct value \n",
    "df.loc[pred > optimal_threshold, \"pred\"] = 1\n",
    "# classification report\n",
    "print(classification_report(y_pred=df[\"pred\"], y_true=df[\"affairsyn\"]))"
   ]
  },
  {
   "cell_type": "markdown",
   "id": "87c930c1",
   "metadata": {},
   "source": [
    "Saving the classification report in a dataframe."
   ]
  },
  {
   "cell_type": "code",
   "execution_count": 52,
   "id": "794f65f5",
   "metadata": {},
   "outputs": [
    {
     "data": {
      "text/html": [
       "<div>\n",
       "<style scoped>\n",
       "    .dataframe tbody tr th:only-of-type {\n",
       "        vertical-align: middle;\n",
       "    }\n",
       "\n",
       "    .dataframe tbody tr th {\n",
       "        vertical-align: top;\n",
       "    }\n",
       "\n",
       "    .dataframe thead th {\n",
       "        text-align: right;\n",
       "    }\n",
       "</style>\n",
       "<table border=\"1\" class=\"dataframe\">\n",
       "  <thead>\n",
       "    <tr style=\"text-align: right;\">\n",
       "      <th></th>\n",
       "      <th>precision</th>\n",
       "      <th>recall</th>\n",
       "      <th>f1-score</th>\n",
       "      <th>support</th>\n",
       "    </tr>\n",
       "  </thead>\n",
       "  <tbody>\n",
       "    <tr>\n",
       "      <th>0</th>\n",
       "      <td>0.859459</td>\n",
       "      <td>0.705100</td>\n",
       "      <td>0.774665</td>\n",
       "      <td>451.00000</td>\n",
       "    </tr>\n",
       "    <tr>\n",
       "      <th>1</th>\n",
       "      <td>0.424242</td>\n",
       "      <td>0.653333</td>\n",
       "      <td>0.514436</td>\n",
       "      <td>150.00000</td>\n",
       "    </tr>\n",
       "    <tr>\n",
       "      <th>accuracy</th>\n",
       "      <td>0.692180</td>\n",
       "      <td>0.692180</td>\n",
       "      <td>0.692180</td>\n",
       "      <td>0.69218</td>\n",
       "    </tr>\n",
       "    <tr>\n",
       "      <th>macro avg</th>\n",
       "      <td>0.641851</td>\n",
       "      <td>0.679217</td>\n",
       "      <td>0.644550</td>\n",
       "      <td>601.00000</td>\n",
       "    </tr>\n",
       "    <tr>\n",
       "      <th>weighted avg</th>\n",
       "      <td>0.750836</td>\n",
       "      <td>0.692180</td>\n",
       "      <td>0.709716</td>\n",
       "      <td>601.00000</td>\n",
       "    </tr>\n",
       "  </tbody>\n",
       "</table>\n",
       "</div>"
      ],
      "text/plain": [
       "              precision    recall  f1-score    support\n",
       "0              0.859459  0.705100  0.774665  451.00000\n",
       "1              0.424242  0.653333  0.514436  150.00000\n",
       "accuracy       0.692180  0.692180  0.692180    0.69218\n",
       "macro avg      0.641851  0.679217  0.644550  601.00000\n",
       "weighted avg   0.750836  0.692180  0.709716  601.00000"
      ]
     },
     "execution_count": 52,
     "metadata": {},
     "output_type": "execute_result"
    }
   ],
   "source": [
    "classification_report = pd.DataFrame(classification_report(y_pred =df[\"pred\"], y_true =df[\"affairsyn\"], output_dict=True)).transpose()\n",
    "classification_report"
   ]
  },
  {
   "cell_type": "markdown",
   "id": "54e94bf3",
   "metadata": {},
   "source": [
    "Using the train test split function to split the data into train and test dataset. "
   ]
  },
  {
   "cell_type": "code",
   "execution_count": 53,
   "id": "70b176f9",
   "metadata": {},
   "outputs": [],
   "source": [
    "df_train, df_test = train_test_split(df, test_size = 0.3,random_state=1000) # 30% test data"
   ]
  },
  {
   "cell_type": "markdown",
   "id": "1e33dc50",
   "metadata": {},
   "source": [
    "Fitting the model on the training data. "
   ]
  },
  {
   "cell_type": "code",
   "execution_count": 54,
   "id": "f7dd33a6",
   "metadata": {},
   "outputs": [
    {
     "name": "stdout",
     "output_type": "stream",
     "text": [
      "Optimization terminated successfully.\n",
      "         Current function value: 0.505952\n",
      "         Iterations 17\n"
     ]
    }
   ],
   "source": [
    "model = smf.logit('affairsyn ~ kids + vryunhap + unhap + avgmarr + hapavg + vryhap + antirel + notrel + slghtrel + smerel + vryrel + yrsmarr1 + yrsmarr2 + yrsmarr3 + yrsmarr4 + yrsmarr5 + yrsmarr6', data = df_train).fit()"
   ]
  },
  {
   "cell_type": "code",
   "execution_count": 55,
   "id": "8ff00a90",
   "metadata": {},
   "outputs": [
    {
     "data": {
      "text/html": [
       "<table class=\"simpletable\">\n",
       "<caption>Logit Regression Results</caption>\n",
       "<tr>\n",
       "  <th>Dep. Variable:</th>       <td>affairsyn</td>    <th>  No. Observations:  </th>  <td>   420</td>  \n",
       "</tr>\n",
       "<tr>\n",
       "  <th>Model:</th>                 <td>Logit</td>      <th>  Df Residuals:      </th>  <td>   405</td>  \n",
       "</tr>\n",
       "<tr>\n",
       "  <th>Method:</th>                 <td>MLE</td>       <th>  Df Model:          </th>  <td>    14</td>  \n",
       "</tr>\n",
       "<tr>\n",
       "  <th>Date:</th>            <td>Tue, 22 Nov 2022</td> <th>  Pseudo R-squ.:     </th>  <td>0.1044</td>  \n",
       "</tr>\n",
       "<tr>\n",
       "  <th>Time:</th>                <td>23:34:47</td>     <th>  Log-Likelihood:    </th> <td> -212.50</td> \n",
       "</tr>\n",
       "<tr>\n",
       "  <th>converged:</th>             <td>True</td>       <th>  LL-Null:           </th> <td> -237.27</td> \n",
       "</tr>\n",
       "<tr>\n",
       "  <th>Covariance Type:</th>     <td>nonrobust</td>    <th>  LLR p-value:       </th> <td>7.271e-06</td>\n",
       "</tr>\n",
       "</table>\n",
       "<table class=\"simpletable\">\n",
       "<tr>\n",
       "      <td></td>         <th>coef</th>     <th>std err</th>      <th>z</th>      <th>P>|z|</th>  <th>[0.025</th>    <th>0.975]</th>  \n",
       "</tr>\n",
       "<tr>\n",
       "  <th>Intercept</th> <td>   -0.5268</td> <td> 3.63e+06</td> <td>-1.45e-07</td> <td> 1.000</td> <td>-7.12e+06</td> <td> 7.12e+06</td>\n",
       "</tr>\n",
       "<tr>\n",
       "  <th>kids</th>      <td>    0.0839</td> <td>    0.365</td> <td>    0.230</td> <td> 0.818</td> <td>   -0.631</td> <td>    0.799</td>\n",
       "</tr>\n",
       "<tr>\n",
       "  <th>vryunhap</th>  <td>    0.5494</td> <td>      nan</td> <td>      nan</td> <td>   nan</td> <td>      nan</td> <td>      nan</td>\n",
       "</tr>\n",
       "<tr>\n",
       "  <th>unhap</th>     <td>    0.5107</td> <td>      nan</td> <td>      nan</td> <td>   nan</td> <td>      nan</td> <td>      nan</td>\n",
       "</tr>\n",
       "<tr>\n",
       "  <th>avgmarr</th>   <td>    0.1462</td> <td>      nan</td> <td>      nan</td> <td>   nan</td> <td>      nan</td> <td>      nan</td>\n",
       "</tr>\n",
       "<tr>\n",
       "  <th>hapavg</th>    <td>   -0.6532</td> <td>      nan</td> <td>      nan</td> <td>   nan</td> <td>      nan</td> <td>      nan</td>\n",
       "</tr>\n",
       "<tr>\n",
       "  <th>vryhap</th>    <td>   -1.0798</td> <td>      nan</td> <td>      nan</td> <td>   nan</td> <td>      nan</td> <td>      nan</td>\n",
       "</tr>\n",
       "<tr>\n",
       "  <th>antirel</th>   <td>    0.7802</td> <td>      nan</td> <td>      nan</td> <td>   nan</td> <td>      nan</td> <td>      nan</td>\n",
       "</tr>\n",
       "<tr>\n",
       "  <th>notrel</th>    <td>   -0.2567</td> <td>      nan</td> <td>      nan</td> <td>   nan</td> <td>      nan</td> <td>      nan</td>\n",
       "</tr>\n",
       "<tr>\n",
       "  <th>slghtrel</th>  <td>    0.1001</td> <td>      nan</td> <td>      nan</td> <td>   nan</td> <td>      nan</td> <td>      nan</td>\n",
       "</tr>\n",
       "<tr>\n",
       "  <th>smerel</th>    <td>   -0.6538</td> <td>      nan</td> <td>      nan</td> <td>   nan</td> <td>      nan</td> <td>      nan</td>\n",
       "</tr>\n",
       "<tr>\n",
       "  <th>vryrel</th>    <td>   -0.4964</td> <td>      nan</td> <td>      nan</td> <td>   nan</td> <td>      nan</td> <td>      nan</td>\n",
       "</tr>\n",
       "<tr>\n",
       "  <th>yrsmarr1</th>  <td>   -0.8013</td> <td>      nan</td> <td>      nan</td> <td>   nan</td> <td>      nan</td> <td>      nan</td>\n",
       "</tr>\n",
       "<tr>\n",
       "  <th>yrsmarr2</th>  <td>   -0.4798</td> <td>      nan</td> <td>      nan</td> <td>   nan</td> <td>      nan</td> <td>      nan</td>\n",
       "</tr>\n",
       "<tr>\n",
       "  <th>yrsmarr3</th>  <td>    0.0122</td> <td>      nan</td> <td>      nan</td> <td>   nan</td> <td>      nan</td> <td>      nan</td>\n",
       "</tr>\n",
       "<tr>\n",
       "  <th>yrsmarr4</th>  <td>    0.2701</td> <td>      nan</td> <td>      nan</td> <td>   nan</td> <td>      nan</td> <td>      nan</td>\n",
       "</tr>\n",
       "<tr>\n",
       "  <th>yrsmarr5</th>  <td>    0.2852</td> <td>      nan</td> <td>      nan</td> <td>   nan</td> <td>      nan</td> <td>      nan</td>\n",
       "</tr>\n",
       "<tr>\n",
       "  <th>yrsmarr6</th>  <td>    0.1869</td> <td>      nan</td> <td>      nan</td> <td>   nan</td> <td>      nan</td> <td>      nan</td>\n",
       "</tr>\n",
       "</table>"
      ],
      "text/plain": [
       "<class 'statsmodels.iolib.summary.Summary'>\n",
       "\"\"\"\n",
       "                           Logit Regression Results                           \n",
       "==============================================================================\n",
       "Dep. Variable:              affairsyn   No. Observations:                  420\n",
       "Model:                          Logit   Df Residuals:                      405\n",
       "Method:                           MLE   Df Model:                           14\n",
       "Date:                Tue, 22 Nov 2022   Pseudo R-squ.:                  0.1044\n",
       "Time:                        23:34:47   Log-Likelihood:                -212.50\n",
       "converged:                       True   LL-Null:                       -237.27\n",
       "Covariance Type:            nonrobust   LLR p-value:                 7.271e-06\n",
       "==============================================================================\n",
       "                 coef    std err          z      P>|z|      [0.025      0.975]\n",
       "------------------------------------------------------------------------------\n",
       "Intercept     -0.5268   3.63e+06  -1.45e-07      1.000   -7.12e+06    7.12e+06\n",
       "kids           0.0839      0.365      0.230      0.818      -0.631       0.799\n",
       "vryunhap       0.5494        nan        nan        nan         nan         nan\n",
       "unhap          0.5107        nan        nan        nan         nan         nan\n",
       "avgmarr        0.1462        nan        nan        nan         nan         nan\n",
       "hapavg        -0.6532        nan        nan        nan         nan         nan\n",
       "vryhap        -1.0798        nan        nan        nan         nan         nan\n",
       "antirel        0.7802        nan        nan        nan         nan         nan\n",
       "notrel        -0.2567        nan        nan        nan         nan         nan\n",
       "slghtrel       0.1001        nan        nan        nan         nan         nan\n",
       "smerel        -0.6538        nan        nan        nan         nan         nan\n",
       "vryrel        -0.4964        nan        nan        nan         nan         nan\n",
       "yrsmarr1      -0.8013        nan        nan        nan         nan         nan\n",
       "yrsmarr2      -0.4798        nan        nan        nan         nan         nan\n",
       "yrsmarr3       0.0122        nan        nan        nan         nan         nan\n",
       "yrsmarr4       0.2701        nan        nan        nan         nan         nan\n",
       "yrsmarr5       0.2852        nan        nan        nan         nan         nan\n",
       "yrsmarr6       0.1869        nan        nan        nan         nan         nan\n",
       "==============================================================================\n",
       "\"\"\""
      ]
     },
     "execution_count": 55,
     "metadata": {},
     "output_type": "execute_result"
    }
   ],
   "source": [
    "model.summary()"
   ]
  },
  {
   "cell_type": "code",
   "execution_count": 56,
   "id": "97297de4",
   "metadata": {},
   "outputs": [
    {
     "data": {
      "text/html": [
       "<table class=\"simpletable\">\n",
       "<tr>\n",
       "        <td>Model:</td>              <td>Logit</td>      <td>Pseudo R-squared:</td>    <td>0.104</td>  \n",
       "</tr>\n",
       "<tr>\n",
       "  <td>Dependent Variable:</td>     <td>affairsyn</td>          <td>AIC:</td>         <td>454.9995</td> \n",
       "</tr>\n",
       "<tr>\n",
       "         <td>Date:</td>        <td>2022-11-22 23:34</td>       <td>BIC:</td>         <td>515.6033</td> \n",
       "</tr>\n",
       "<tr>\n",
       "   <td>No. Observations:</td>         <td>420</td>        <td>Log-Likelihood:</td>    <td>-212.50</td> \n",
       "</tr>\n",
       "<tr>\n",
       "       <td>Df Model:</td>             <td>14</td>            <td>LL-Null:</td>        <td>-237.27</td> \n",
       "</tr>\n",
       "<tr>\n",
       "     <td>Df Residuals:</td>           <td>405</td>         <td>LLR p-value:</td>    <td>7.2713e-06</td>\n",
       "</tr>\n",
       "<tr>\n",
       "      <td>Converged:</td>           <td>1.0000</td>           <td>Scale:</td>         <td>1.0000</td>  \n",
       "</tr>\n",
       "<tr>\n",
       "    <td>No. Iterations:</td>        <td>17.0000</td>             <td></td>               <td></td>     \n",
       "</tr>\n",
       "</table>\n",
       "<table class=\"simpletable\">\n",
       "<tr>\n",
       "      <td></td>       <th>Coef.</th>    <th>Std.Err.</th>      <th>z</th>     <th>P>|z|</th>    <th>[0.025</th>        <th>0.975]</th>   \n",
       "</tr>\n",
       "<tr>\n",
       "  <th>Intercept</th> <td>-0.5268</td> <td>3632367.4303</td> <td>-0.0000</td> <td>1.0000</td> <td>-7119309.8687</td> <td>7119308.8151</td>\n",
       "</tr>\n",
       "<tr>\n",
       "  <th>kids</th>      <td>0.0839</td>     <td>0.3649</td>    <td>0.2299</td>  <td>0.8182</td>    <td>-0.6313</td>       <td>0.7990</td>   \n",
       "</tr>\n",
       "<tr>\n",
       "  <th>vryunhap</th>  <td>0.5494</td>       <td>nan</td>       <td>nan</td>     <td>nan</td>       <td>nan</td>           <td>nan</td>    \n",
       "</tr>\n",
       "<tr>\n",
       "  <th>unhap</th>     <td>0.5107</td>       <td>nan</td>       <td>nan</td>     <td>nan</td>       <td>nan</td>           <td>nan</td>    \n",
       "</tr>\n",
       "<tr>\n",
       "  <th>avgmarr</th>   <td>0.1462</td>       <td>nan</td>       <td>nan</td>     <td>nan</td>       <td>nan</td>           <td>nan</td>    \n",
       "</tr>\n",
       "<tr>\n",
       "  <th>hapavg</th>    <td>-0.6532</td>      <td>nan</td>       <td>nan</td>     <td>nan</td>       <td>nan</td>           <td>nan</td>    \n",
       "</tr>\n",
       "<tr>\n",
       "  <th>vryhap</th>    <td>-1.0798</td>      <td>nan</td>       <td>nan</td>     <td>nan</td>       <td>nan</td>           <td>nan</td>    \n",
       "</tr>\n",
       "<tr>\n",
       "  <th>antirel</th>   <td>0.7802</td>       <td>nan</td>       <td>nan</td>     <td>nan</td>       <td>nan</td>           <td>nan</td>    \n",
       "</tr>\n",
       "<tr>\n",
       "  <th>notrel</th>    <td>-0.2567</td>      <td>nan</td>       <td>nan</td>     <td>nan</td>       <td>nan</td>           <td>nan</td>    \n",
       "</tr>\n",
       "<tr>\n",
       "  <th>slghtrel</th>  <td>0.1001</td>       <td>nan</td>       <td>nan</td>     <td>nan</td>       <td>nan</td>           <td>nan</td>    \n",
       "</tr>\n",
       "<tr>\n",
       "  <th>smerel</th>    <td>-0.6538</td>      <td>nan</td>       <td>nan</td>     <td>nan</td>       <td>nan</td>           <td>nan</td>    \n",
       "</tr>\n",
       "<tr>\n",
       "  <th>vryrel</th>    <td>-0.4964</td>      <td>nan</td>       <td>nan</td>     <td>nan</td>       <td>nan</td>           <td>nan</td>    \n",
       "</tr>\n",
       "<tr>\n",
       "  <th>yrsmarr1</th>  <td>-0.8013</td>      <td>nan</td>       <td>nan</td>     <td>nan</td>       <td>nan</td>           <td>nan</td>    \n",
       "</tr>\n",
       "<tr>\n",
       "  <th>yrsmarr2</th>  <td>-0.4798</td>      <td>nan</td>       <td>nan</td>     <td>nan</td>       <td>nan</td>           <td>nan</td>    \n",
       "</tr>\n",
       "<tr>\n",
       "  <th>yrsmarr3</th>  <td>0.0122</td>       <td>nan</td>       <td>nan</td>     <td>nan</td>       <td>nan</td>           <td>nan</td>    \n",
       "</tr>\n",
       "<tr>\n",
       "  <th>yrsmarr4</th>  <td>0.2701</td>       <td>nan</td>       <td>nan</td>     <td>nan</td>       <td>nan</td>           <td>nan</td>    \n",
       "</tr>\n",
       "<tr>\n",
       "  <th>yrsmarr5</th>  <td>0.2852</td>       <td>nan</td>       <td>nan</td>     <td>nan</td>       <td>nan</td>           <td>nan</td>    \n",
       "</tr>\n",
       "<tr>\n",
       "  <th>yrsmarr6</th>  <td>0.1869</td>       <td>nan</td>       <td>nan</td>     <td>nan</td>       <td>nan</td>           <td>nan</td>    \n",
       "</tr>\n",
       "</table>"
      ],
      "text/plain": [
       "<class 'statsmodels.iolib.summary2.Summary'>\n",
       "\"\"\"\n",
       "                             Results: Logit\n",
       "========================================================================\n",
       "Model:                 Logit              Pseudo R-squared:   0.104     \n",
       "Dependent Variable:    affairsyn          AIC:                454.9995  \n",
       "Date:                  2022-11-22 23:34   BIC:                515.6033  \n",
       "No. Observations:      420                Log-Likelihood:     -212.50   \n",
       "Df Model:              14                 LL-Null:            -237.27   \n",
       "Df Residuals:          405                LLR p-value:        7.2713e-06\n",
       "Converged:             1.0000             Scale:              1.0000    \n",
       "No. Iterations:        17.0000                                          \n",
       "------------------------------------------------------------------------\n",
       "           Coef.    Std.Err.      z    P>|z|      [0.025       0.975]   \n",
       "------------------------------------------------------------------------\n",
       "Intercept -0.5268 3632367.4303 -0.0000 1.0000 -7119309.8687 7119308.8151\n",
       "kids       0.0839       0.3649  0.2299 0.8182       -0.6313       0.7990\n",
       "vryunhap   0.5494          nan     nan    nan           nan          nan\n",
       "unhap      0.5107          nan     nan    nan           nan          nan\n",
       "avgmarr    0.1462          nan     nan    nan           nan          nan\n",
       "hapavg    -0.6532          nan     nan    nan           nan          nan\n",
       "vryhap    -1.0798          nan     nan    nan           nan          nan\n",
       "antirel    0.7802          nan     nan    nan           nan          nan\n",
       "notrel    -0.2567          nan     nan    nan           nan          nan\n",
       "slghtrel   0.1001          nan     nan    nan           nan          nan\n",
       "smerel    -0.6538          nan     nan    nan           nan          nan\n",
       "vryrel    -0.4964          nan     nan    nan           nan          nan\n",
       "yrsmarr1  -0.8013          nan     nan    nan           nan          nan\n",
       "yrsmarr2  -0.4798          nan     nan    nan           nan          nan\n",
       "yrsmarr3   0.0122          nan     nan    nan           nan          nan\n",
       "yrsmarr4   0.2701          nan     nan    nan           nan          nan\n",
       "yrsmarr5   0.2852          nan     nan    nan           nan          nan\n",
       "yrsmarr6   0.1869          nan     nan    nan           nan          nan\n",
       "========================================================================\n",
       "\n",
       "\"\"\""
      ]
     },
     "execution_count": 56,
     "metadata": {},
     "output_type": "execute_result"
    }
   ],
   "source": [
    "model.summary2()"
   ]
  },
  {
   "cell_type": "markdown",
   "id": "7b2b1c4d",
   "metadata": {},
   "source": [
    "From the summary we can see that the AIC value is lower while fitting the model on the train data. Predicting the probabilities on the test data"
   ]
  },
  {
   "cell_type": "code",
   "execution_count": 57,
   "id": "06f22eb4",
   "metadata": {},
   "outputs": [],
   "source": [
    "test_pred=model.predict(df_test)"
   ]
  },
  {
   "cell_type": "code",
   "execution_count": 58,
   "id": "a3a61372",
   "metadata": {},
   "outputs": [],
   "source": [
    "# Creating new column for storing predicted data after binarisation. \n",
    "# filling all the cells with zeroes\n",
    "df_test[\"test_pred\"] = np.zeros(181)"
   ]
  },
  {
   "cell_type": "code",
   "execution_count": 59,
   "id": "cef94d02",
   "metadata": {},
   "outputs": [],
   "source": [
    "# taking threshold value as 'optimal_threshold' and above the thresold prob value will be treated as 1 \n",
    "df_test.loc[test_pred > optimal_threshold, \"test_pred\"] = 1"
   ]
  },
  {
   "cell_type": "markdown",
   "id": "cb99e101",
   "metadata": {},
   "source": [
    "Using the crosstab function from the pandas library to create the Confusion Matrix. "
   ]
  },
  {
   "cell_type": "code",
   "execution_count": 60,
   "id": "dcd79857",
   "metadata": {},
   "outputs": [
    {
     "data": {
      "text/html": [
       "<div>\n",
       "<style scoped>\n",
       "    .dataframe tbody tr th:only-of-type {\n",
       "        vertical-align: middle;\n",
       "    }\n",
       "\n",
       "    .dataframe tbody tr th {\n",
       "        vertical-align: top;\n",
       "    }\n",
       "\n",
       "    .dataframe thead th {\n",
       "        text-align: right;\n",
       "    }\n",
       "</style>\n",
       "<table border=\"1\" class=\"dataframe\">\n",
       "  <thead>\n",
       "    <tr style=\"text-align: right;\">\n",
       "      <th>Actuals</th>\n",
       "      <th>0</th>\n",
       "      <th>1</th>\n",
       "    </tr>\n",
       "    <tr>\n",
       "      <th>Predictions</th>\n",
       "      <th></th>\n",
       "      <th></th>\n",
       "    </tr>\n",
       "  </thead>\n",
       "  <tbody>\n",
       "    <tr>\n",
       "      <th>0.0</th>\n",
       "      <td>94</td>\n",
       "      <td>19</td>\n",
       "    </tr>\n",
       "    <tr>\n",
       "      <th>1.0</th>\n",
       "      <td>43</td>\n",
       "      <td>25</td>\n",
       "    </tr>\n",
       "  </tbody>\n",
       "</table>\n",
       "</div>"
      ],
      "text/plain": [
       "Actuals       0   1\n",
       "Predictions        \n",
       "0.0          94  19\n",
       "1.0          43  25"
      ]
     },
     "execution_count": 60,
     "metadata": {},
     "output_type": "execute_result"
    }
   ],
   "source": [
    "confusion_matrix = pd.crosstab(df_test['test_pred'], df_test['affairsyn'],rownames = ['Predictions'], colnames= ['Actuals'])\n",
    "confusion_matrix"
   ]
  },
  {
   "cell_type": "markdown",
   "id": "01afcd18",
   "metadata": {},
   "source": [
    "Calculating the acuracy of the test data by adding the correctly predicted records and dividing it by the total number of records. "
   ]
  },
  {
   "cell_type": "code",
   "execution_count": 61,
   "id": "72df0dd6",
   "metadata": {},
   "outputs": [
    {
     "data": {
      "text/plain": [
       "0.6574585635359116"
      ]
     },
     "execution_count": 61,
     "metadata": {},
     "output_type": "execute_result"
    }
   ],
   "source": [
    "accuracy_test = (94 + 25)/(181) \n",
    "accuracy_test"
   ]
  },
  {
   "cell_type": "markdown",
   "id": "8869d13b",
   "metadata": {},
   "source": [
    "Following the same steps to calculate the accuracy of the train data. "
   ]
  },
  {
   "cell_type": "code",
   "execution_count": 62,
   "id": "cf5fc22a",
   "metadata": {},
   "outputs": [],
   "source": [
    "train_pred=model.predict(df_train)"
   ]
  },
  {
   "cell_type": "code",
   "execution_count": 63,
   "id": "c87e5559",
   "metadata": {},
   "outputs": [],
   "source": [
    "df_train[\"train_pred\"]=np.zeros(420)"
   ]
  },
  {
   "cell_type": "code",
   "execution_count": 64,
   "id": "3c869ab2",
   "metadata": {},
   "outputs": [],
   "source": [
    "df_train.loc[train_pred>optimal_threshold,'train_pred']=1"
   ]
  },
  {
   "cell_type": "code",
   "execution_count": 65,
   "id": "ae83bfbb",
   "metadata": {},
   "outputs": [
    {
     "data": {
      "text/html": [
       "<div>\n",
       "<style scoped>\n",
       "    .dataframe tbody tr th:only-of-type {\n",
       "        vertical-align: middle;\n",
       "    }\n",
       "\n",
       "    .dataframe tbody tr th {\n",
       "        vertical-align: top;\n",
       "    }\n",
       "\n",
       "    .dataframe thead th {\n",
       "        text-align: right;\n",
       "    }\n",
       "</style>\n",
       "<table border=\"1\" class=\"dataframe\">\n",
       "  <thead>\n",
       "    <tr style=\"text-align: right;\">\n",
       "      <th>Actuals</th>\n",
       "      <th>0</th>\n",
       "      <th>1</th>\n",
       "    </tr>\n",
       "    <tr>\n",
       "      <th>Predictions</th>\n",
       "      <th></th>\n",
       "      <th></th>\n",
       "    </tr>\n",
       "  </thead>\n",
       "  <tbody>\n",
       "    <tr>\n",
       "      <th>0.0</th>\n",
       "      <td>214</td>\n",
       "      <td>39</td>\n",
       "    </tr>\n",
       "    <tr>\n",
       "      <th>1.0</th>\n",
       "      <td>100</td>\n",
       "      <td>67</td>\n",
       "    </tr>\n",
       "  </tbody>\n",
       "</table>\n",
       "</div>"
      ],
      "text/plain": [
       "Actuals        0   1\n",
       "Predictions         \n",
       "0.0          214  39\n",
       "1.0          100  67"
      ]
     },
     "execution_count": 65,
     "metadata": {},
     "output_type": "execute_result"
    }
   ],
   "source": [
    "confusion_matrix = pd.crosstab(df_train['train_pred'], df_train['affairsyn'],rownames = ['Predictions'], colnames= ['Actuals'])\n",
    "confusion_matrix"
   ]
  },
  {
   "cell_type": "code",
   "execution_count": 66,
   "id": "85e3c3e6",
   "metadata": {},
   "outputs": [
    {
     "data": {
      "text/plain": [
       "0.6023809523809524"
      ]
     },
     "execution_count": 66,
     "metadata": {},
     "output_type": "execute_result"
    }
   ],
   "source": [
    "accuracy_train = (214+ 39)/(420) \n",
    "accuracy_train"
   ]
  },
  {
   "cell_type": "markdown",
   "id": "625dcf79",
   "metadata": {},
   "source": [
    "### CONCLUSION"
   ]
  },
  {
   "cell_type": "markdown",
   "id": "65da7fba",
   "metadata": {},
   "source": [
    "From the accuracies of both the train and test data we can see although the accuracies are not overfitting or underfitting, but the model accuracy is not great. So this model wouldn't be ideal to predict the affairs dataset. "
   ]
  }
 ],
 "metadata": {
  "kernelspec": {
   "display_name": "Python 3 (ipykernel)",
   "language": "python",
   "name": "python3"
  },
  "language_info": {
   "codemirror_mode": {
    "name": "ipython",
    "version": 3
   },
   "file_extension": ".py",
   "mimetype": "text/x-python",
   "name": "python",
   "nbconvert_exporter": "python",
   "pygments_lexer": "ipython3",
   "version": "3.9.12"
  }
 },
 "nbformat": 4,
 "nbformat_minor": 5
}
